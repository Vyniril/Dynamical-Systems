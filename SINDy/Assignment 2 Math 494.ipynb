{
 "cells": [
  {
   "cell_type": "code",
   "execution_count": 1,
   "id": "65c4640d",
   "metadata": {},
   "outputs": [
    {
     "name": "stdout",
     "output_type": "stream",
     "text": [
      "Requirement already satisfied: numpy in c:\\users\\vynir\\anaconda3.1\\envs\\math494\\lib\\site-packages (1.24.2)\n",
      "Requirement already satisfied: scipy in c:\\users\\vynir\\anaconda3.1\\envs\\math494\\lib\\site-packages (1.10.1)\n",
      "Requirement already satisfied: numpy<1.27.0,>=1.19.5 in c:\\users\\vynir\\anaconda3.1\\envs\\math494\\lib\\site-packages (from scipy) (1.24.2)\n",
      "Requirement already satisfied: matplotlib in c:\\users\\vynir\\anaconda3.1\\envs\\math494\\lib\\site-packages (3.7.1)\n",
      "Requirement already satisfied: kiwisolver>=1.0.1 in c:\\users\\vynir\\anaconda3.1\\envs\\math494\\lib\\site-packages (from matplotlib) (1.4.4)\n",
      "Requirement already satisfied: packaging>=20.0 in c:\\users\\vynir\\anaconda3.1\\envs\\math494\\lib\\site-packages (from matplotlib) (22.0)\n",
      "Requirement already satisfied: importlib-resources>=3.2.0 in c:\\users\\vynir\\anaconda3.1\\envs\\math494\\lib\\site-packages (from matplotlib) (5.12.0)\n",
      "Requirement already satisfied: fonttools>=4.22.0 in c:\\users\\vynir\\anaconda3.1\\envs\\math494\\lib\\site-packages (from matplotlib) (4.38.0)\n",
      "Requirement already satisfied: pillow>=6.2.0 in c:\\users\\vynir\\anaconda3.1\\envs\\math494\\lib\\site-packages (from matplotlib) (9.4.0)\n",
      "Requirement already satisfied: contourpy>=1.0.1 in c:\\users\\vynir\\anaconda3.1\\envs\\math494\\lib\\site-packages (from matplotlib) (1.0.7)\n",
      "Requirement already satisfied: numpy>=1.20 in c:\\users\\vynir\\anaconda3.1\\envs\\math494\\lib\\site-packages (from matplotlib) (1.24.2)\n",
      "Requirement already satisfied: pyparsing>=2.3.1 in c:\\users\\vynir\\anaconda3.1\\envs\\math494\\lib\\site-packages (from matplotlib) (3.0.9)\n",
      "Requirement already satisfied: python-dateutil>=2.7 in c:\\users\\vynir\\anaconda3.1\\envs\\math494\\lib\\site-packages (from matplotlib) (2.8.2)\n",
      "Requirement already satisfied: cycler>=0.10 in c:\\users\\vynir\\anaconda3.1\\envs\\math494\\lib\\site-packages (from matplotlib) (0.11.0)\n",
      "Requirement already satisfied: zipp>=3.1.0 in c:\\users\\vynir\\anaconda3.1\\envs\\math494\\lib\\site-packages (from importlib-resources>=3.2.0->matplotlib) (3.15.0)\n",
      "Requirement already satisfied: six>=1.5 in c:\\users\\vynir\\anaconda3.1\\envs\\math494\\lib\\site-packages (from python-dateutil>=2.7->matplotlib) (1.16.0)\n",
      "Requirement already satisfied: opencv-python in c:\\users\\vynir\\anaconda3.1\\envs\\math494\\lib\\site-packages (4.7.0.72)\n",
      "Requirement already satisfied: numpy>=1.17.3 in c:\\users\\vynir\\anaconda3.1\\envs\\math494\\lib\\site-packages (from opencv-python) (1.24.2)\n"
     ]
    }
   ],
   "source": [
    "#INSTALLS\n",
    "\n",
    "!pip install numpy\n",
    "!pip install scipy\n",
    "!pip install matplotlib\n",
    "!pip install opencv-python"
   ]
  },
  {
   "cell_type": "code",
   "execution_count": 1,
   "id": "f7238891",
   "metadata": {},
   "outputs": [],
   "source": [
    "import numpy as np\n",
    "import scipy.io\n",
    "import matplotlib.pyplot as plt\n",
    "from PIL import Image as im\n",
    "import cv2 as cv"
   ]
  },
  {
   "cell_type": "code",
   "execution_count": 2,
   "id": "33636f3a",
   "metadata": {},
   "outputs": [],
   "source": [
    "#DOWNLOAD VIDEO\n",
    "\n",
    "#For each camera recording, we extract the videos from mat files\n",
    "from scipy.io import loadmat\n",
    "Mat1 = loadmat('cam1_1.mat')\n",
    "Mat2 = loadmat('cam2_1.mat')\n",
    "Mat3 = loadmat('cam3_1.mat')"
   ]
  },
  {
   "cell_type": "code",
   "execution_count": 3,
   "id": "46d965ad",
   "metadata": {},
   "outputs": [],
   "source": [
    "#We convert the data into python arrays\n",
    "dataMat1 = Mat1[\"vidFrames1_1\"]\n",
    "dataMat2 = Mat2[\"vidFrames2_1\"]\n",
    "dataMat3 = Mat3[\"vidFrames3_1\"]"
   ]
  },
  {
   "cell_type": "code",
   "execution_count": 4,
   "id": "dc92ccdc",
   "metadata": {},
   "outputs": [
    {
     "name": "stdout",
     "output_type": "stream",
     "text": [
      "(480, 640, 3, 226)\n",
      "(480, 640, 3, 284)\n",
      "(480, 640, 3, 232)\n"
     ]
    }
   ],
   "source": [
    "#We determine the dimensions of each of the cameras to see what dimensions our data matrix have\n",
    "print(dataMat1.shape)\n",
    "print(dataMat2.shape)\n",
    "print(dataMat3.shape)"
   ]
  },
  {
   "cell_type": "code",
   "execution_count": 5,
   "id": "88c3e9ae",
   "metadata": {},
   "outputs": [],
   "source": [
    "#MOTION TRACKING\n",
    "\n",
    "#We write the videos necessary to capture the motion from each video\n",
    "\n",
    "#ANGLE 1:\n",
    "\n",
    "height, width,_,nbFrames = dataMat1.shape\n",
    "codec_id = \"mp4v\" # ID for a video codec.\n",
    "fourcc = cv.VideoWriter_fourcc(*codec_id)\n",
    "filename = \"video1.mp4\"\n",
    "out = cv.VideoWriter(filename, fourcc=fourcc, fps=20, frameSize=(width, height))\n",
    "\n",
    "\n",
    "for i in range(nbFrames):\n",
    "    out.write(dataMat1[:,:,:,i])\n",
    "    \n",
    " \n",
    "#ANGLE 2:\n",
    "\n",
    "    height, width,_,nbFrames = dataMat2.shape\n",
    "codec_id = \"mp4v\" # ID for a video codec.\n",
    "fourcc = cv.VideoWriter_fourcc(*codec_id)\n",
    "filename = \"video2.mp4\"\n",
    "out = cv.VideoWriter(filename, fourcc=fourcc, fps=20, frameSize=(width, height))\n",
    "\n",
    "\n",
    "for i in range(nbFrames):\n",
    "    out.write(dataMat2[:,:,:,i])\n"
   ]
  },
  {
   "cell_type": "code",
   "execution_count": 28,
   "id": "dd40fec4",
   "metadata": {},
   "outputs": [],
   "source": [
    "#ANGLE 3:\n",
    "\n",
    "height, width,_,nbFrames = dataMat3.shape\n",
    "codec_id = \"mp4v\" # ID for a video codec.\n",
    "fourcc = cv.VideoWriter_fourcc(*codec_id)\n",
    "filename = \"video3.mp4\"\n",
    "out = cv.VideoWriter(filename, fourcc=fourcc, fps=20, frameSize=(width, height))\n",
    "\n",
    "\n",
    "for i in range(nbFrames):\n",
    "    out.write(dataMat3[:,:,:,i])"
   ]
  },
  {
   "cell_type": "code",
   "execution_count": 7,
   "id": "9799765e",
   "metadata": {},
   "outputs": [],
   "source": [
    "#Here we declare the matrix that will store our x and y coordinates\n",
    "x_y_coordinateMatrix1 = np.zeros((0,225))\n",
    "x_y_coordinateMatrix2 = np.zeros((0,225))\n",
    "x_y_coordinateMatrix3 = np.zeros((0,225))"
   ]
  },
  {
   "cell_type": "code",
   "execution_count": 8,
   "id": "275753a6",
   "metadata": {},
   "outputs": [],
   "source": [
    "#Now we can set up the motion tracking \n",
    "#We set up a dictionary of legacy motion trackers in opencv\n",
    "\n",
    "tracker_types = ['BOOSTING', 'MIL','KCF', 'TLD', 'MEDIANFLOW', 'CSRT']\n",
    "tracker_type = tracker_types[1]\n",
    "\n",
    "if tracker_type == 'BOOSTING':\n",
    "    tracker = cv.legacy.TrackerBoosting_create()\n",
    "if tracker_type == 'MIL':\n",
    "    tracker = cv.TrackerMIL_create() \n",
    "if tracker_type == 'KCF':\n",
    "    tracker = cv.TrackerKCF_create() \n",
    "if tracker_type == 'TLD':\n",
    "    tracker = cv.legacy.TrackerTLD_create() \n",
    "if tracker_type == 'MEDIANFLOW':\n",
    "    tracker = cv.legacy.TrackerMedianFlow_create() \n",
    "#if tracker_type == \"CSRT\":\n",
    "    #tracker = cv.TrackerCSRT_create()"
   ]
  },
  {
   "cell_type": "code",
   "execution_count": 81,
   "id": "41efef72",
   "metadata": {},
   "outputs": [],
   "source": [
    "#VIDEO 1\n",
    "\n",
    "#The code below allows us to manually draw a rectangle that will track the motion of the bucket \n",
    "\n",
    "v1 = cv.VideoCapture('video1.mp4')\n",
    "ret, frame = v1.read()\n",
    "cv.imshow('frame',frame)\n",
    "bb = cv.selectROI(frame)\n",
    "tracker.init(frame,bb)\n",
    "\n"
   ]
  },
  {
   "cell_type": "code",
   "execution_count": null,
   "id": "ff5f6b5d",
   "metadata": {},
   "outputs": [
    {
     "name": "stdout",
     "output_type": "stream",
     "text": [
      "201.5 165.0\n",
      "201.5 165.0\n",
      "201.5 165.0\n",
      "201.5 165.0\n",
      "201.5 165.0\n",
      "201.5 165.0\n",
      "201.5 165.0\n",
      "201.5 162.0\n",
      "202.0 162.0\n",
      "202.0 162.0\n",
      "202.5 164.0\n",
      "202.5 164.0\n",
      "203.5 169.0\n",
      "203.5 169.0\n",
      "203.5 175.0\n",
      "203.0 183.5\n",
      "203.0 183.5\n",
      "203.0 192.0\n",
      "203.0 192.0\n",
      "201.5 201.0\n",
      "202.5 201.0\n",
      "202.0 209.5\n",
      "202.5 217.0\n",
      "201.0 216.5\n",
      "201.0 221.5\n",
      "201.0 221.5\n",
      "201.0 223.5\n",
      "201.0 223.5\n",
      "200.5 224.5\n",
      "201.0 224.0\n",
      "201.0 223.5\n",
      "201.0 220.5\n",
      "201.0 220.5\n",
      "201.0 215.5\n",
      "201.0 215.5\n",
      "201.5 208.5\n",
      "201.5 199.5\n",
      "201.5 199.5\n",
      "201.5 191.0\n",
      "201.5 191.0\n",
      "201.0 183.5\n",
      "201.0 183.0\n",
      "201.5 175.5\n",
      "201.5 169.5\n",
      "201.5 169.5\n",
      "201.0 165.5\n",
      "202.0 165.5\n",
      "202.0 163.5\n",
      "201.0 163.5\n",
      "202.0 163.0\n",
      "202.0 165.5\n",
      "201.5 165.5\n",
      "201.5 170.0\n",
      "201.5 170.0\n",
      "202.0 176.5\n",
      "202.0 176.5\n",
      "202.0 184.0\n",
      "202.5 193.0\n",
      "202.5 193.0\n",
      "202.5 201.5\n",
      "201.5 202.0\n",
      "202.0 210.0\n",
      "202.0 210.0\n",
      "202.0 216.5\n",
      "202.5 221.0\n",
      "202.0 221.5\n",
      "201.5 224.0\n",
      "202.5 224.0\n",
      "202.0 224.5\n",
      "202.0 224.5\n",
      "202.0 223.5\n",
      "202.0 220.0\n",
      "202.0 220.0\n",
      "202.0 214.5\n",
      "202.0 214.5\n",
      "201.5 207.5\n",
      "201.5 207.5\n",
      "201.0 199.5\n",
      "201.0 199.5\n",
      "200.5 191.5\n",
      "200.0 182.5\n",
      "200.0 182.5\n",
      "200.0 175.5\n",
      "200.0 175.5\n",
      "200.0 169.5\n",
      "200.0 169.5\n",
      "200.0 166.0\n",
      "199.5 163.5\n",
      "199.5 164.0\n",
      "199.0 164.5\n",
      "199.5 164.5\n",
      "199.0 167.5\n",
      "199.0 167.5\n",
      "199.0 172.5\n"
     ]
    }
   ],
   "source": [
    "#Displaying and storing the traking data into arrays\n",
    "\n",
    "x_coordinates1 = np.zeros((226,1))\n",
    "y_coordinates1 = np.zeros((226,1))\n",
    "index = 0\n",
    "while True:\n",
    "    ret,frame = v1.read()\n",
    "    if not ret:\n",
    "        break\n",
    "    (success,box) = tracker.update(frame)\n",
    "    if success:\n",
    "        (x,y,w,h) = [int(a) for a in box]\n",
    "        cv.rectangle(frame,(x,y),(x+w,y+h),(250,0,250), 2)\n",
    "        x_centerCoordinate = (x+w)/2\n",
    "        y_centerCoordinate = (y+h)/2\n",
    "        print(x_centerCoordinate,y_centerCoordinate)\n",
    "        x_coordinates1[index] = x_centerCoordinate\n",
    "        y_coordinates1[index] = y_centerCoordinate\n",
    "    cv.imshow('Frame',frame)\n",
    "    key = cv.waitKey(30)\n",
    "    index = index+1\n",
    "    if key == ord('q'):\n",
    "        break\n",
    "\n",
    "v1.release()\n",
    "cv.destroyAllWindows()"
   ]
  },
  {
   "cell_type": "code",
   "execution_count": 11,
   "id": "58efbe28",
   "metadata": {},
   "outputs": [],
   "source": [
    "#Here we will resize our coordinate arrays so that they are an appropriate shape \n",
    "#since the camera take with the fewest number of frames generates 225 data points \n",
    "\n",
    "x_coordinates1 = np.resize(x_coordinates1,(225,1))\n",
    "y_coordinates1 = np.resize(y_coordinates1,(225,1))"
   ]
  },
  {
   "cell_type": "code",
   "execution_count": 12,
   "id": "dbf350dc",
   "metadata": {},
   "outputs": [],
   "source": [
    "#Now we can reshape the coordinates to make them one long row\n",
    "\n",
    "x_coordinates1 = np.reshape(x_coordinates1,(1,225))\n",
    "y_coordinates1 = np.reshape(y_coordinates1,(1,225))"
   ]
  },
  {
   "cell_type": "code",
   "execution_count": 13,
   "id": "cfbfe0f2",
   "metadata": {},
   "outputs": [],
   "source": [
    "x_y_coordinateMatrix1 = np.append(x_y_coordinateMatrix1,x_coordinates1,axis=0)"
   ]
  },
  {
   "cell_type": "code",
   "execution_count": 14,
   "id": "fe39e94e",
   "metadata": {},
   "outputs": [],
   "source": [
    "x_y_coordinateMatrix1 = np.append(x_y_coordinateMatrix1,y_coordinates1,axis=0)"
   ]
  },
  {
   "cell_type": "code",
   "execution_count": 15,
   "id": "c2b091d9",
   "metadata": {},
   "outputs": [
    {
     "data": {
      "text/plain": [
       "(2, 225)"
      ]
     },
     "execution_count": 15,
     "metadata": {},
     "output_type": "execute_result"
    }
   ],
   "source": [
    "np.shape(x_y_coordinateMatrix1)"
   ]
  },
  {
   "cell_type": "code",
   "execution_count": 16,
   "id": "85a2e459",
   "metadata": {},
   "outputs": [
    {
     "data": {
      "text/plain": [
       "array([[200. , 199.5, 199.5, 199.5, 199.5, 199.5, 199.5, 200. , 200.5,\n",
       "        201. , 201. , 201. , 201. , 201. , 200.5, 200.5, 200.5, 200. ,\n",
       "        200. , 199.5, 200. , 198.5, 197.5, 198. , 199.5, 199.5, 199. ,\n",
       "        198.5, 198.5, 198.5, 199. , 198.5, 198. , 197.5, 198. , 198.5,\n",
       "        199. , 199. , 199.5, 199.5, 199. , 199.5, 199. , 200. , 200. ,\n",
       "        200. , 200. , 200. , 199.5, 199.5, 199.5, 200.5, 200.5, 200.5,\n",
       "        200.5, 200.5, 200. , 201. , 201. , 201. , 201. , 201. , 201. ,\n",
       "        201. , 200.5, 200.5, 200. , 200. , 200. , 200. , 200.5, 199.5,\n",
       "        200. , 200. , 200. , 199.5, 199.5, 199.5, 199.5, 199. , 198.5,\n",
       "        198.5, 198.5, 198.5, 198.5, 198.5, 197.5, 197.5, 197.5, 197.5,\n",
       "        197.5, 197.5, 197.5, 197.5, 197. , 196.5, 197. , 197. , 196.5,\n",
       "        197. , 197. , 197. , 197. , 197. , 197. , 196.5, 197.5, 197. ,\n",
       "        197.5, 198. , 198. , 198. , 199. , 198.5, 199.5, 199.5, 199.5,\n",
       "        199.5, 199.5, 200. , 200. , 200. , 200.5, 200. , 200. , 200. ,\n",
       "        200.5, 200.5, 200.5, 200.5, 200.5, 201. , 200.5, 201. , 201. ,\n",
       "        201. , 201.5, 201. , 201.5, 201.5, 201. , 200.5, 200.5, 200. ,\n",
       "        200. , 200. , 199.5, 198.5, 198.5, 198.5, 198. , 198. , 197. ,\n",
       "        197. , 197. , 196.5, 196.5, 196. , 196.5, 196. , 196. , 196. ,\n",
       "        196.5, 196. , 196. , 196. , 196.5, 196.5, 196.5, 196.5, 196.5,\n",
       "        197.5, 197. , 197. , 197.5, 197.5, 197.5, 197.5, 197.5, 197.5,\n",
       "        198. , 198. , 198. , 198. , 198. , 198.5, 198. , 198. , 198.5,\n",
       "        198. , 198.5, 198.5, 199. , 198.5, 199. , 199.5, 200. , 200. ,\n",
       "        200. , 200. , 200. , 199.5, 199.5, 200. , 199. , 199. , 199. ,\n",
       "        198.5, 198.5, 199. , 198.5, 198. , 199. , 199. , 198. , 198.5,\n",
       "        198.5, 199. , 198.5, 198.5, 199. , 199. , 201.5, 201.5, 201.5],\n",
       "       [170. , 170. , 169.5, 169.5, 169.5, 169.5, 169.5, 167.5, 167.5,\n",
       "        167.5, 169.5, 169.5, 174. , 174. , 180. , 187.5, 188. , 196.5,\n",
       "        197. , 205. , 206. , 211. , 222. , 221.5, 225.5, 226. , 226.5,\n",
       "        227. , 228. , 227. , 227.5, 224.5, 224.5, 219.5, 219.5, 212. ,\n",
       "        203.5, 204. , 196. , 196. , 188. , 188. , 181.5, 174.5, 174.5,\n",
       "        170.5, 170.5, 168. , 168. , 168. , 170.5, 170.5, 175. , 175. ,\n",
       "        181.5, 182. , 189.5, 198.5, 198.5, 207. , 207. , 214.5, 214.5,\n",
       "        220. , 224.5, 225. , 227. , 227. , 227.5, 228. , 226. , 223. ,\n",
       "        223. , 218. , 218. , 211. , 211.5, 203. , 203. , 195. , 187. ,\n",
       "        187. , 180. , 179. , 173. , 174. , 169. , 167.5, 167.5, 168. ,\n",
       "        168. , 171.5, 171. , 176.5, 184. , 183.5, 192. , 192. , 200.5,\n",
       "        209.5, 209.5, 217. , 217.5, 222.5, 223. , 225. , 227. , 227.5,\n",
       "        228.5, 227.5, 225. , 225. , 220.5, 220. , 214. , 206.5, 206.5,\n",
       "        198. , 198. , 190. , 190. , 183. , 174.5, 175. , 171.5, 171. ,\n",
       "        168.5, 166.5, 166.5, 167.5, 167.5, 170.5, 170.5, 175.5, 175.5,\n",
       "        182.5, 190.5, 190.5, 198.5, 198.5, 207. , 215.5, 214.5, 219.5,\n",
       "        219.5, 221. , 221.5, 222.5, 222.5, 222.5, 221. , 221. , 217.5,\n",
       "        217.5, 211.5, 212. , 204. , 196. , 196.5, 189. , 189. , 181. ,\n",
       "        174.5, 174. , 170.5, 170. , 168.5, 168. , 167. , 167.5, 167.5,\n",
       "        171. , 170.5, 176. , 176. , 183.5, 184. , 192. , 200. , 200. ,\n",
       "        208. , 208. , 213.5, 219. , 219. , 220.5, 221.5, 223.5, 223.5,\n",
       "        223.5, 221.5, 221. , 218. , 218. , 213. , 212.5, 205.5, 205.5,\n",
       "        198. , 190. , 190. , 183. , 183. , 176.5, 172. , 172. , 169.5,\n",
       "        169.5, 168.5, 168.5, 170. , 169. , 173. , 179. , 179. , 185.5,\n",
       "        185.5, 194. , 202.5, 202.5, 209.5, 210. , 216.5, 217.5, 222. ]])"
      ]
     },
     "execution_count": 16,
     "metadata": {},
     "output_type": "execute_result"
    }
   ],
   "source": [
    "x_y_coordinateMatrix1"
   ]
  },
  {
   "cell_type": "code",
   "execution_count": 17,
   "id": "ac69e725",
   "metadata": {},
   "outputs": [],
   "source": [
    "#Now do the prevoius steps for the other two videos"
   ]
  },
  {
   "cell_type": "code",
   "execution_count": 18,
   "id": "8b834c15",
   "metadata": {},
   "outputs": [],
   "source": [
    "#VIDEO 2\n",
    "\n",
    "#The code below allows us to manually draw a rectangle that will track the motion of the bucket\n",
    " \n",
    "\n",
    "v2 = cv.VideoCapture('video2.mp4')\n",
    "ret, frame = v2.read()\n",
    "cv.imshow('frame',frame)\n",
    "bb = cv.selectROI(frame)\n",
    "tracker.init(frame,bb)"
   ]
  },
  {
   "cell_type": "code",
   "execution_count": 19,
   "id": "59fc7a7f",
   "metadata": {},
   "outputs": [
    {
     "name": "stdout",
     "output_type": "stream",
     "text": [
      "173.0 187.5\n",
      "173.5 183.5\n",
      "173.0 179.0\n",
      "173.0 173.0\n",
      "172.5 165.5\n",
      "172.5 165.5\n",
      "173.0 158.0\n",
      "172.0 149.0\n",
      "172.0 142.0\n",
      "172.5 133.5\n",
      "172.5 134.0\n",
      "173.0 127.0\n",
      "174.0 123.0\n",
      "172.5 117.0\n",
      "172.5 113.5\n",
      "173.0 113.5\n",
      "173.0 111.0\n",
      "173.0 109.0\n",
      "173.0 109.0\n",
      "172.5 109.5\n",
      "172.5 110.0\n",
      "171.5 113.5\n",
      "171.0 118.0\n",
      "171.0 124.0\n",
      "170.5 131.5\n",
      "171.5 132.0\n",
      "170.0 140.0\n",
      "169.5 148.5\n",
      "169.0 157.0\n",
      "169.0 165.5\n",
      "168.5 165.0\n",
      "169.0 172.5\n",
      "169.0 179.5\n",
      "168.5 185.0\n",
      "168.0 189.0\n",
      "168.0 188.5\n",
      "168.5 190.5\n",
      "168.5 191.0\n",
      "169.0 190.0\n",
      "170.0 188.0\n",
      "170.0 188.0\n",
      "170.5 185.5\n",
      "171.5 181.0\n",
      "172.0 175.0\n",
      "172.5 168.5\n",
      "172.5 168.5\n",
      "173.0 161.5\n",
      "174.0 152.5\n",
      "174.5 145.0\n",
      "175.0 137.5\n",
      "175.0 137.5\n",
      "176.0 129.0\n",
      "176.0 123.5\n",
      "175.5 117.0\n",
      "175.5 117.0\n",
      "176.0 113.5\n",
      "176.5 110.5\n",
      "176.5 108.5\n",
      "176.5 108.5\n",
      "176.5 108.5\n",
      "177.0 110.0\n",
      "177.0 113.5\n",
      "177.0 118.0\n",
      "177.0 122.0\n",
      "177.0 122.0\n",
      "176.5 129.5\n",
      "176.0 137.0\n",
      "176.0 145.0\n",
      "175.0 154.5\n",
      "175.0 154.0\n",
      "175.0 162.0\n",
      "174.5 170.0\n",
      "173.5 177.5\n",
      "173.5 183.0\n",
      "173.5 183.0\n",
      "174.0 187.5\n",
      "173.0 190.0\n",
      "172.5 190.5\n",
      "172.5 190.5\n",
      "172.0 190.5\n",
      "172.5 189.0\n",
      "172.5 185.5\n",
      "173.0 181.0\n",
      "174.0 175.0\n",
      "174.0 175.0\n",
      "173.5 168.0\n",
      "173.5 161.0\n",
      "174.5 153.5\n",
      "175.5 146.5\n",
      "176.0 146.5\n",
      "175.5 139.0\n",
      "176.0 131.0\n",
      "176.5 124.0\n",
      "177.5 118.5\n",
      "177.5 119.0\n",
      "178.0 114.5\n",
      "178.0 113.0\n",
      "178.5 111.5\n",
      "179.0 112.0\n",
      "179.0 112.0\n",
      "178.5 113.0\n",
      "178.0 116.0\n",
      "178.0 119.5\n",
      "178.5 125.5\n",
      "178.5 125.5\n",
      "179.0 132.0\n",
      "179.0 140.5\n",
      "178.0 149.0\n",
      "178.5 157.5\n",
      "178.0 157.5\n",
      "178.0 165.5\n",
      "177.5 172.0\n",
      "177.5 177.5\n",
      "178.0 183.0\n",
      "178.0 183.0\n",
      "178.5 187.5\n",
      "179.0 188.5\n",
      "178.5 188.0\n",
      "178.0 187.5\n",
      "178.0 187.5\n",
      "178.0 185.5\n",
      "177.5 182.5\n",
      "177.5 177.5\n",
      "177.5 170.5\n",
      "177.5 170.5\n",
      "178.0 164.5\n",
      "179.5 157.0\n",
      "179.5 148.0\n",
      "179.5 140.0\n",
      "179.5 140.5\n",
      "179.5 133.0\n",
      "180.5 126.0\n",
      "179.5 119.5\n",
      "178.5 114.5\n",
      "178.5 114.5\n",
      "178.5 110.5\n",
      "179.5 108.5\n",
      "179.0 107.0\n",
      "180.0 107.0\n",
      "180.0 107.0\n",
      "180.0 108.5\n",
      "179.5 111.0\n",
      "179.0 115.5\n",
      "178.5 121.0\n",
      "178.5 121.5\n",
      "179.0 129.0\n",
      "179.5 136.5\n",
      "180.0 145.0\n",
      "180.0 153.5\n",
      "180.0 154.0\n",
      "179.0 162.0\n",
      "178.5 170.5\n",
      "178.5 176.5\n",
      "179.0 181.5\n",
      "179.0 181.5\n",
      "178.5 185.0\n",
      "178.5 187.0\n",
      "179.0 187.5\n",
      "179.0 187.0\n",
      "179.0 187.0\n",
      "179.0 185.0\n",
      "179.5 181.0\n",
      "179.5 175.0\n",
      "179.5 168.5\n",
      "179.5 169.0\n",
      "180.0 161.5\n",
      "181.0 155.0\n",
      "181.5 147.0\n",
      "182.0 139.0\n",
      "182.0 139.0\n",
      "182.5 131.5\n",
      "182.0 124.0\n",
      "183.0 118.5\n",
      "184.0 114.0\n",
      "184.0 113.5\n",
      "185.0 110.0\n",
      "186.0 110.0\n",
      "186.5 108.0\n",
      "186.0 106.5\n",
      "186.0 108.5\n",
      "185.5 109.0\n",
      "184.5 110.5\n",
      "184.5 115.5\n",
      "184.0 120.5\n",
      "184.0 120.5\n",
      "184.0 127.5\n",
      "183.5 135.5\n",
      "183.0 143.5\n",
      "182.5 150.5\n",
      "182.5 150.5\n",
      "182.5 159.5\n",
      "182.5 167.5\n",
      "181.0 174.0\n",
      "180.0 179.5\n",
      "180.5 180.0\n",
      "180.0 184.0\n",
      "179.5 186.5\n",
      "179.5 187.5\n",
      "179.5 186.5\n",
      "179.0 186.5\n",
      "179.5 184.5\n",
      "179.5 180.5\n",
      "178.5 176.0\n",
      "178.5 169.5\n",
      "178.5 169.5\n",
      "178.5 162.5\n",
      "178.5 155.0\n",
      "179.0 147.5\n",
      "179.0 139.0\n",
      "179.0 139.0\n",
      "178.5 131.0\n",
      "179.0 125.0\n",
      "179.5 119.5\n",
      "180.5 116.5\n",
      "180.5 115.5\n",
      "181.0 111.5\n",
      "181.0 108.0\n",
      "181.0 108.5\n",
      "180.5 108.0\n",
      "180.5 108.0\n",
      "180.5 110.5\n",
      "179.5 114.0\n",
      "177.5 117.5\n",
      "177.0 122.0\n",
      "177.0 122.0\n",
      "177.0 128.0\n",
      "178.5 136.5\n",
      "180.0 144.0\n",
      "179.5 150.0\n",
      "179.5 150.0\n",
      "178.0 158.0\n",
      "179.0 166.5\n",
      "179.0 173.0\n",
      "178.5 179.0\n",
      "178.5 179.0\n",
      "178.5 184.0\n",
      "178.0 187.0\n",
      "179.5 188.5\n",
      "179.5 189.5\n",
      "179.5 188.5\n",
      "180.0 187.5\n",
      "181.0 186.5\n",
      "182.0 183.5\n",
      "182.5 178.5\n",
      "182.0 178.5\n",
      "182.5 172.0\n",
      "183.0 166.0\n",
      "183.5 158.5\n",
      "183.5 150.0\n",
      "183.0 150.0\n",
      "182.5 141.5\n",
      "181.5 134.0\n",
      "182.0 127.5\n",
      "182.5 122.0\n",
      "183.0 122.0\n",
      "183.5 116.0\n",
      "184.5 114.5\n",
      "184.5 113.0\n",
      "184.5 112.5\n",
      "184.5 112.5\n",
      "184.5 114.5\n",
      "184.0 117.0\n",
      "183.5 121.0\n",
      "182.5 126.0\n",
      "182.5 126.0\n",
      "182.5 132.5\n",
      "183.0 139.5\n",
      "182.5 147.0\n",
      "181.5 154.0\n",
      "181.5 154.0\n",
      "181.5 161.0\n",
      "181.5 168.5\n",
      "180.5 174.0\n",
      "179.0 180.5\n",
      "179.0 180.5\n",
      "178.5 184.0\n",
      "175.5 186.0\n",
      "172.0 187.5\n",
      "173.5 187.0\n",
      "173.5 187.0\n",
      "179.0 186.0\n",
      "181.0 183.5\n",
      "180.0 180.0\n"
     ]
    }
   ],
   "source": [
    "#Displaying and storing the tracking data into arrays\n",
    "\n",
    "x_coordinates2 = np.zeros((284,1))\n",
    "y_coordinates2 = np.zeros((284,1))\n",
    "index = 0\n",
    "while True:\n",
    "    ret,frame = v2.read()\n",
    "    if not ret:\n",
    "        break\n",
    "    (success,box) = tracker.update(frame)\n",
    "    if success:\n",
    "        (x,y,w,h) = [int(a) for a in box]\n",
    "        cv.rectangle(frame,(x,y),(x+w,y+h),(250,0,250), 2)\n",
    "        x_centerCoordinate = (x+w)/2\n",
    "        y_centerCoordinate = (y+h)/2\n",
    "        print(x_centerCoordinate,y_centerCoordinate)\n",
    "        x_coordinates2[index] = x_centerCoordinate\n",
    "        y_coordinates2[index] = y_centerCoordinate\n",
    "    cv.imshow('Frame',frame)\n",
    "    key = cv.waitKey(30)\n",
    "    index = index+1\n",
    "    if key == ord('q'):\n",
    "        break\n",
    "\n",
    "v2.release()\n",
    "cv.destroyAllWindows()"
   ]
  },
  {
   "cell_type": "code",
   "execution_count": 20,
   "id": "b4eae2be",
   "metadata": {},
   "outputs": [],
   "source": [
    "#Here we will resize our coordinate arrays so that they are an appropriate shape\n",
    "#Since the camera take with the fewest number of frames generates 225 data points, \n",
    "\n",
    "x_coordinates2 = np.resize(x_coordinates2,(225,1))\n",
    "y_coordinates2 = np.resize(y_coordinates2,(225,1))"
   ]
  },
  {
   "cell_type": "code",
   "execution_count": 21,
   "id": "bf2a848e",
   "metadata": {},
   "outputs": [],
   "source": [
    "#Now we can reshape the coordinates to make them one long row\n",
    "\n",
    "x_coordinates2 = np.reshape(x_coordinates2,(1,225))\n",
    "y_coordinates2 = np.reshape(y_coordinates2,(1,225))"
   ]
  },
  {
   "cell_type": "code",
   "execution_count": 22,
   "id": "3c86e595",
   "metadata": {},
   "outputs": [],
   "source": [
    "x_y_coordinateMatrix2 = np.append(x_y_coordinateMatrix2,x_coordinates2,axis=0)"
   ]
  },
  {
   "cell_type": "code",
   "execution_count": 23,
   "id": "afbd5f06",
   "metadata": {},
   "outputs": [],
   "source": [
    "x_y_coordinateMatrix2 = np.append(x_y_coordinateMatrix2,y_coordinates2,axis=0)"
   ]
  },
  {
   "cell_type": "code",
   "execution_count": 24,
   "id": "f7528fa0",
   "metadata": {},
   "outputs": [
    {
     "data": {
      "text/plain": [
       "(2, 225)"
      ]
     },
     "execution_count": 24,
     "metadata": {},
     "output_type": "execute_result"
    }
   ],
   "source": [
    "np.shape(x_y_coordinateMatrix2)"
   ]
  },
  {
   "cell_type": "code",
   "execution_count": 25,
   "id": "93416914",
   "metadata": {},
   "outputs": [
    {
     "data": {
      "text/plain": [
       "array([[173. , 173.5, 173. , 173. , 172.5, 172.5, 173. , 172. , 172. ,\n",
       "        172.5, 172.5, 173. , 174. , 172.5, 172.5, 173. , 173. , 173. ,\n",
       "        173. , 172.5, 172.5, 171.5, 171. , 171. , 170.5, 171.5, 170. ,\n",
       "        169.5, 169. , 169. , 168.5, 169. , 169. , 168.5, 168. , 168. ,\n",
       "        168.5, 168.5, 169. , 170. , 170. , 170.5, 171.5, 172. , 172.5,\n",
       "        172.5, 173. , 174. , 174.5, 175. , 175. , 176. , 176. , 175.5,\n",
       "        175.5, 176. , 176.5, 176.5, 176.5, 176.5, 177. , 177. , 177. ,\n",
       "        177. , 177. , 176.5, 176. , 176. , 175. , 175. , 175. , 174.5,\n",
       "        173.5, 173.5, 173.5, 174. , 173. , 172.5, 172.5, 172. , 172.5,\n",
       "        172.5, 173. , 174. , 174. , 173.5, 173.5, 174.5, 175.5, 176. ,\n",
       "        175.5, 176. , 176.5, 177.5, 177.5, 178. , 178. , 178.5, 179. ,\n",
       "        179. , 178.5, 178. , 178. , 178.5, 178.5, 179. , 179. , 178. ,\n",
       "        178.5, 178. , 178. , 177.5, 177.5, 178. , 178. , 178.5, 179. ,\n",
       "        178.5, 178. , 178. , 178. , 177.5, 177.5, 177.5, 177.5, 178. ,\n",
       "        179.5, 179.5, 179.5, 179.5, 179.5, 180.5, 179.5, 178.5, 178.5,\n",
       "        178.5, 179.5, 179. , 180. , 180. , 180. , 179.5, 179. , 178.5,\n",
       "        178.5, 179. , 179.5, 180. , 180. , 180. , 179. , 178.5, 178.5,\n",
       "        179. , 179. , 178.5, 178.5, 179. , 179. , 179. , 179. , 179.5,\n",
       "        179.5, 179.5, 179.5, 180. , 181. , 181.5, 182. , 182. , 182.5,\n",
       "        182. , 183. , 184. , 184. , 185. , 186. , 186.5, 186. , 186. ,\n",
       "        185.5, 184.5, 184.5, 184. , 184. , 184. , 183.5, 183. , 182.5,\n",
       "        182.5, 182.5, 182.5, 181. , 180. , 180.5, 180. , 179.5, 179.5,\n",
       "        179.5, 179. , 179.5, 179.5, 178.5, 178.5, 178.5, 178.5, 178.5,\n",
       "        179. , 179. , 179. , 178.5, 179. , 179.5, 180.5, 180.5, 181. ,\n",
       "        181. , 181. , 180.5, 180.5, 180.5, 179.5, 177.5, 177. , 177. ],\n",
       "       [187.5, 183.5, 179. , 173. , 165.5, 165.5, 158. , 149. , 142. ,\n",
       "        133.5, 134. , 127. , 123. , 117. , 113.5, 113.5, 111. , 109. ,\n",
       "        109. , 109.5, 110. , 113.5, 118. , 124. , 131.5, 132. , 140. ,\n",
       "        148.5, 157. , 165.5, 165. , 172.5, 179.5, 185. , 189. , 188.5,\n",
       "        190.5, 191. , 190. , 188. , 188. , 185.5, 181. , 175. , 168.5,\n",
       "        168.5, 161.5, 152.5, 145. , 137.5, 137.5, 129. , 123.5, 117. ,\n",
       "        117. , 113.5, 110.5, 108.5, 108.5, 108.5, 110. , 113.5, 118. ,\n",
       "        122. , 122. , 129.5, 137. , 145. , 154.5, 154. , 162. , 170. ,\n",
       "        177.5, 183. , 183. , 187.5, 190. , 190.5, 190.5, 190.5, 189. ,\n",
       "        185.5, 181. , 175. , 175. , 168. , 161. , 153.5, 146.5, 146.5,\n",
       "        139. , 131. , 124. , 118.5, 119. , 114.5, 113. , 111.5, 112. ,\n",
       "        112. , 113. , 116. , 119.5, 125.5, 125.5, 132. , 140.5, 149. ,\n",
       "        157.5, 157.5, 165.5, 172. , 177.5, 183. , 183. , 187.5, 188.5,\n",
       "        188. , 187.5, 187.5, 185.5, 182.5, 177.5, 170.5, 170.5, 164.5,\n",
       "        157. , 148. , 140. , 140.5, 133. , 126. , 119.5, 114.5, 114.5,\n",
       "        110.5, 108.5, 107. , 107. , 107. , 108.5, 111. , 115.5, 121. ,\n",
       "        121.5, 129. , 136.5, 145. , 153.5, 154. , 162. , 170.5, 176.5,\n",
       "        181.5, 181.5, 185. , 187. , 187.5, 187. , 187. , 185. , 181. ,\n",
       "        175. , 168.5, 169. , 161.5, 155. , 147. , 139. , 139. , 131.5,\n",
       "        124. , 118.5, 114. , 113.5, 110. , 110. , 108. , 106.5, 108.5,\n",
       "        109. , 110.5, 115.5, 120.5, 120.5, 127.5, 135.5, 143.5, 150.5,\n",
       "        150.5, 159.5, 167.5, 174. , 179.5, 180. , 184. , 186.5, 187.5,\n",
       "        186.5, 186.5, 184.5, 180.5, 176. , 169.5, 169.5, 162.5, 155. ,\n",
       "        147.5, 139. , 139. , 131. , 125. , 119.5, 116.5, 115.5, 111.5,\n",
       "        108. , 108.5, 108. , 108. , 110.5, 114. , 117.5, 122. , 122. ]])"
      ]
     },
     "execution_count": 25,
     "metadata": {},
     "output_type": "execute_result"
    }
   ],
   "source": [
    "x_y_coordinateMatrix2"
   ]
  },
  {
   "cell_type": "code",
   "execution_count": 79,
   "id": "a8fa3a4d",
   "metadata": {},
   "outputs": [],
   "source": [
    "#VIDEO 3\n",
    "\n",
    "#The code below allows us to manually draw a rectangle that will track the motion of the bucket\n",
    "\n",
    "\n",
    "v3 = cv.VideoCapture('video3.mp4')\n",
    "ret, frame = v3.read()\n",
    "cv.imshow('frame',frame)\n",
    "bb = cv.selectROI(frame)\n",
    "tracker.init(frame,bb)"
   ]
  },
  {
   "cell_type": "code",
   "execution_count": 80,
   "id": "b7712246",
   "metadata": {},
   "outputs": [
    {
     "name": "stdout",
     "output_type": "stream",
     "text": [
      "200.0 167.5\n",
      "193.5 165.5\n",
      "193.5 165.5\n",
      "186.5 164.5\n",
      "187.0 164.5\n",
      "183.0 163.0\n",
      "181.5 162.5\n",
      "181.5 162.5\n",
      "182.0 162.5\n",
      "182.0 162.5\n",
      "184.0 163.0\n",
      "184.0 163.0\n",
      "188.0 163.5\n",
      "195.0 164.5\n",
      "194.5 164.0\n",
      "202.5 165.0\n",
      "202.5 165.0\n",
      "211.5 166.0\n",
      "211.0 166.0\n",
      "220.5 166.5\n",
      "227.5 167.5\n",
      "227.5 167.5\n",
      "234.0 169.0\n",
      "234.0 168.5\n",
      "239.0 169.5\n",
      "239.0 169.5\n",
      "242.5 170.5\n",
      "243.5 171.0\n",
      "243.5 171.0\n",
      "242.5 170.5\n",
      "242.5 170.5\n",
      "239.5 170.0\n",
      "239.5 170.0\n",
      "234.0 169.0\n",
      "227.0 168.0\n",
      "226.0 168.0\n",
      "219.0 166.5\n",
      "219.0 166.5\n",
      "211.0 165.5\n",
      "211.5 166.0\n",
      "203.5 164.0\n",
      "197.0 163.0\n",
      "197.0 163.0\n",
      "192.0 162.0\n",
      "192.0 162.0\n",
      "188.5 160.5\n",
      "188.5 160.5\n",
      "187.0 160.5\n",
      "187.0 160.5\n",
      "187.0 160.5\n",
      "189.0 161.0\n",
      "189.0 161.0\n",
      "193.5 161.5\n",
      "193.5 161.5\n",
      "199.5 163.0\n",
      "206.5 164.0\n",
      "207.0 164.0\n",
      "214.0 165.0\n",
      "214.0 165.0\n",
      "222.0 165.5\n",
      "222.0 165.5\n",
      "230.0 166.5\n",
      "235.5 168.5\n",
      "235.5 168.5\n",
      "239.5 169.0\n",
      "239.5 169.0\n",
      "241.5 169.0\n",
      "242.0 169.0\n",
      "242.0 169.5\n",
      "240.0 168.0\n",
      "240.0 168.5\n",
      "236.0 167.5\n",
      "236.0 167.5\n",
      "231.0 166.0\n",
      "231.0 166.0\n",
      "223.0 164.5\n",
      "215.5 163.0\n",
      "215.5 163.0\n",
      "207.5 162.0\n",
      "207.5 162.0\n",
      "200.0 161.0\n",
      "200.0 161.0\n",
      "193.5 160.5\n",
      "189.5 159.5\n",
      "189.5 159.5\n",
      "186.5 158.5\n",
      "186.5 158.5\n",
      "185.5 158.0\n",
      "185.5 158.0\n",
      "186.5 157.5\n",
      "189.0 158.0\n",
      "189.0 158.0\n",
      "194.0 159.0\n",
      "194.0 159.0\n",
      "200.0 160.0\n",
      "200.0 160.0\n",
      "208.0 161.0\n",
      "215.5 161.5\n",
      "216.0 161.5\n",
      "223.5 162.0\n",
      "224.5 162.0\n",
      "231.5 163.0\n",
      "231.5 163.0\n",
      "238.0 164.0\n",
      "241.0 165.0\n",
      "241.0 165.0\n",
      "242.5 165.5\n",
      "242.5 166.0\n",
      "242.5 166.0\n",
      "242.5 166.0\n",
      "240.5 165.0\n",
      "237.0 164.0\n",
      "237.0 164.0\n",
      "230.5 163.0\n",
      "230.5 163.0\n",
      "222.5 161.5\n",
      "222.5 161.5\n",
      "214.0 161.0\n",
      "205.0 160.5\n",
      "204.5 160.5\n",
      "196.0 159.5\n",
      "197.0 159.0\n",
      "192.0 158.5\n",
      "191.5 158.5\n",
      "184.5 158.0\n",
      "183.5 157.0\n",
      "184.0 157.5\n",
      "184.0 157.0\n",
      "183.5 157.0\n",
      "185.0 156.5\n",
      "185.0 156.5\n",
      "188.0 156.5\n",
      "192.0 157.0\n",
      "192.0 157.0\n",
      "199.0 158.5\n",
      "199.0 158.0\n",
      "207.5 159.5\n",
      "207.5 159.5\n",
      "215.5 160.5\n",
      "223.5 161.0\n",
      "223.5 161.0\n",
      "232.0 161.5\n",
      "232.0 161.5\n",
      "237.0 162.0\n",
      "237.5 162.0\n",
      "240.5 162.0\n",
      "242.0 162.0\n",
      "242.5 162.0\n",
      "242.5 161.5\n",
      "242.5 161.5\n",
      "240.0 160.5\n",
      "240.0 161.5\n",
      "236.0 160.0\n",
      "229.5 158.5\n",
      "229.5 158.5\n",
      "222.0 157.5\n",
      "222.0 157.5\n",
      "213.5 156.0\n",
      "213.5 156.0\n",
      "206.0 155.5\n",
      "197.5 155.0\n",
      "197.0 154.5\n",
      "189.0 153.5\n",
      "190.0 153.5\n",
      "187.0 153.0\n",
      "186.5 153.5\n",
      "184.5 152.5\n",
      "183.0 154.0\n",
      "183.0 153.5\n",
      "184.5 153.5\n",
      "184.5 153.5\n",
      "187.0 153.5\n",
      "187.0 153.5\n",
      "191.5 154.5\n",
      "198.0 156.0\n",
      "198.0 156.0\n",
      "205.5 157.5\n",
      "205.5 157.5\n",
      "213.5 159.5\n",
      "213.5 159.0\n",
      "220.5 161.0\n",
      "227.5 162.0\n",
      "227.5 162.5\n",
      "233.5 164.0\n",
      "233.5 164.0\n",
      "236.0 164.5\n",
      "237.0 165.0\n",
      "237.5 165.0\n",
      "239.0 165.5\n",
      "239.0 165.5\n",
      "237.0 164.5\n",
      "237.0 165.0\n",
      "233.0 164.0\n",
      "234.0 164.5\n",
      "227.0 162.5\n",
      "220.0 161.0\n",
      "220.5 161.0\n",
      "212.5 159.0\n",
      "213.0 159.5\n",
      "204.5 157.5\n",
      "204.5 157.5\n",
      "197.0 155.0\n",
      "191.0 155.0\n",
      "190.5 154.5\n",
      "186.0 153.5\n",
      "186.0 153.5\n",
      "183.0 153.0\n",
      "183.0 153.0\n",
      "182.5 153.0\n",
      "183.0 153.0\n",
      "182.5 153.0\n",
      "185.5 153.5\n",
      "185.5 153.5\n",
      "190.0 154.0\n",
      "190.0 154.0\n",
      "197.0 154.5\n",
      "204.5 156.0\n",
      "204.5 156.0\n",
      "212.0 157.0\n",
      "212.0 157.0\n",
      "219.5 157.0\n",
      "220.0 157.5\n",
      "227.0 158.0\n",
      "231.5 158.5\n",
      "231.5 158.5\n",
      "235.0 161.0\n",
      "235.0 161.5\n",
      "237.0 166.5\n",
      "237.0 168.0\n",
      "239.0 161.5\n",
      "235.5 161.0\n"
     ]
    }
   ],
   "source": [
    "#Displaying and storing the tracking data into arrays\n",
    "\n",
    "x_coordinates3 = np.zeros((232,1))\n",
    "y_coordinates3 = np.zeros((232,1))\n",
    "index = 0\n",
    "while True:\n",
    "    ret,frame = v3.read()\n",
    "    if not ret:\n",
    "        break\n",
    "    (success,box) = tracker.update(frame)\n",
    "    if success:\n",
    "        (x,y,w,h) = [int(a) for a in box]\n",
    "        cv.rectangle(frame,(x,y),(x+w,y+h),(250,0,250), 2)\n",
    "        x_centerCoordinate = (x+w)/2\n",
    "        y_centerCoordinate = (y+h)/2\n",
    "        print(x_centerCoordinate,y_centerCoordinate)\n",
    "        x_coordinates3[index] = x_centerCoordinate\n",
    "        y_coordinates3[index] = y_centerCoordinate\n",
    "    cv.imshow('Frame',frame)\n",
    "    key = cv.waitKey(30)\n",
    "    index = index+1\n",
    "    if key == ord('q'):\n",
    "        break\n",
    "\n",
    "v3.release()\n",
    "cv.destroyAllWindows()"
   ]
  },
  {
   "cell_type": "code",
   "execution_count": 31,
   "id": "d51e1da6",
   "metadata": {},
   "outputs": [],
   "source": [
    "#Here we will resize our coordinate arrays so that they are an appropriate shape\n",
    "#Since the camera take with the fewest number of frames generates 225 data points\n",
    "\n",
    "x_coordinates3 = np.resize(x_coordinates3,(225,1))\n",
    "y_coordinates3 = np.resize(y_coordinates3,(225,1))"
   ]
  },
  {
   "cell_type": "code",
   "execution_count": 32,
   "id": "a94a8deb",
   "metadata": {},
   "outputs": [],
   "source": [
    "#Now we can reshape the coordinates to make them one long row\n",
    "\n",
    "x_coordinates3 = np.reshape(x_coordinates3,(1,225))\n",
    "y_coordinates3 = np.reshape(y_coordinates3,(1,225))"
   ]
  },
  {
   "cell_type": "code",
   "execution_count": 33,
   "id": "7d1199c0",
   "metadata": {},
   "outputs": [],
   "source": [
    "x_y_coordinateMatrix3 = np.append(x_y_coordinateMatrix3,x_coordinates3,axis=0)"
   ]
  },
  {
   "cell_type": "code",
   "execution_count": 34,
   "id": "d4eb3a23",
   "metadata": {},
   "outputs": [],
   "source": [
    "x_y_coordinateMatrix3 = np.append(x_y_coordinateMatrix3,y_coordinates3,axis=0)"
   ]
  },
  {
   "cell_type": "code",
   "execution_count": 35,
   "id": "6393a0bc",
   "metadata": {},
   "outputs": [
    {
     "data": {
      "text/plain": [
       "(2, 225)"
      ]
     },
     "execution_count": 35,
     "metadata": {},
     "output_type": "execute_result"
    }
   ],
   "source": [
    "np.shape(x_y_coordinateMatrix3)"
   ]
  },
  {
   "cell_type": "code",
   "execution_count": 36,
   "id": "c12afb10",
   "metadata": {},
   "outputs": [
    {
     "data": {
      "text/plain": [
       "array([[203.5, 196.5, 196.5, 191. , 191. , 187. , 185. , 185. , 186. ,\n",
       "        186. , 188. , 188. , 192.5, 199.5, 199.5, 207. , 206.5, 216. ,\n",
       "        215.5, 224. , 232.5, 232.5, 237.5, 238. , 243.5, 244. , 247. ,\n",
       "        248. , 248. , 247. , 247.5, 244. , 244. , 237.5, 231.5, 231. ,\n",
       "        223.5, 223.5, 216. , 216. , 208.5, 202. , 201.5, 197. , 196.5,\n",
       "        192.5, 192.5, 190.5, 191. , 191. , 193.5, 193.5, 197.5, 198. ,\n",
       "        204.5, 211.5, 211.5, 219. , 219. , 226.5, 227. , 233.5, 239.5,\n",
       "        240. , 244.5, 244.5, 247. , 247. , 246.5, 244.5, 244.5, 241. ,\n",
       "        241. , 235. , 235. , 229.5, 221. , 221.5, 213. , 213. , 205.5,\n",
       "        205.5, 198.5, 194.5, 194. , 191. , 191. , 189.5, 190. , 191. ,\n",
       "        193.5, 193.5, 199. , 199. , 205.5, 205.5, 213.5, 221.5, 221.5,\n",
       "        231. , 231. , 236.5, 237.5, 244. , 248. , 248.5, 250.5, 250.5,\n",
       "        250.5, 250.5, 248.5, 244. , 244. , 237.5, 237.5, 229. , 230. ,\n",
       "        221. , 212.5, 212.5, 204.5, 204.5, 199. , 199. , 193. , 190.5,\n",
       "        190.5, 190.5, 190.5, 192. , 192. , 195.5, 200. , 200.5, 207. ,\n",
       "        207. , 215. , 215. , 223. , 231.5, 231. , 237. , 238. , 244. ,\n",
       "        244. , 248. , 250. , 250. , 249.5, 250. , 247. , 247.5, 243. ,\n",
       "        236.5, 237. , 230.5, 230. , 222. , 222. , 213.5, 205.5, 205.5,\n",
       "        198.5, 198.5, 195. , 195. , 192. , 191. , 191. , 192.5, 192.5,\n",
       "        195.5, 195.5, 200. , 206.5, 206.5, 214.5, 214.5, 222. , 221.5,\n",
       "        229.5, 235.5, 236. , 240.5, 240.5, 245. , 245. , 247. , 247.5,\n",
       "        247.5, 245.5, 245.5, 241.5, 242. , 234.5, 228.5, 228.5, 221.5,\n",
       "        221. , 213. , 213. , 206. , 199. , 199. , 194. , 194.5, 192. ,\n",
       "        191. , 190. , 191. , 191. , 194. , 194. , 199. , 198.5, 206. ,\n",
       "        213.5, 213.5, 221. , 221. , 228.5, 228.5, 234. , 238.5, 239. ],\n",
       "       [170.5, 168.5, 168.5, 167. , 167. , 166.5, 166. , 166. , 166. ,\n",
       "        166. , 166.5, 166.5, 167. , 167.5, 167.5, 168. , 168. , 169. ,\n",
       "        169. , 169.5, 171. , 171. , 171.5, 172. , 172.5, 172.5, 173.5,\n",
       "        174.5, 174.5, 174. , 174. , 173.5, 173.5, 172.5, 171.5, 171.5,\n",
       "        169.5, 170. , 169. , 169.5, 167.5, 167. , 167. , 166. , 166. ,\n",
       "        165. , 165. , 165. , 165. , 165. , 166. , 166. , 166.5, 166. ,\n",
       "        167.5, 168.5, 168. , 169.5, 169.5, 170. , 170. , 171.5, 173.5,\n",
       "        173. , 174. , 174. , 174. , 174. , 174. , 173. , 173. , 172.5,\n",
       "        172.5, 171. , 171. , 170. , 168.5, 168.5, 167.5, 167.5, 166.5,\n",
       "        166.5, 166. , 164.5, 164.5, 164. , 164. , 164. , 163.5, 163.5,\n",
       "        164. , 164. , 164.5, 164.5, 166. , 165.5, 167. , 167. , 167. ,\n",
       "        168. , 168. , 169. , 169. , 171. , 171.5, 171.5, 172. , 172. ,\n",
       "        172.5, 172.5, 172. , 170.5, 170.5, 170. , 170. , 168.5, 168.5,\n",
       "        167.5, 168. , 167.5, 166.5, 167. , 166. , 166. , 165. , 164.5,\n",
       "        165. , 164.5, 164.5, 164. , 164. , 164. , 165. , 165. , 166. ,\n",
       "        166. , 167. , 167. , 168. , 169.5, 169. , 170. , 169.5, 169.5,\n",
       "        170. , 170.5, 171. , 171. , 170.5, 170.5, 170. , 169.5, 168.5,\n",
       "        167. , 167. , 166. , 166. , 165.5, 165.5, 164. , 164. , 164. ,\n",
       "        163.5, 163.5, 162.5, 162.5, 162. , 163. , 162.5, 162.5, 162.5,\n",
       "        163. , 163. , 164. , 165. , 165. , 166.5, 166.5, 167.5, 167.5,\n",
       "        169.5, 171. , 171.5, 172.5, 172.5, 174. , 174. , 174.5, 175. ,\n",
       "        175. , 174. , 173.5, 173. , 173.5, 171. , 169.5, 170. , 167.5,\n",
       "        167.5, 166.5, 166.5, 164.5, 163.5, 163.5, 162. , 162. , 161.5,\n",
       "        161.5, 161.5, 161.5, 161.5, 162. , 162. , 163. , 163. , 163.5,\n",
       "        165. , 165. , 166. , 166. , 167. , 167. , 167. , 167. , 167. ]])"
      ]
     },
     "execution_count": 36,
     "metadata": {},
     "output_type": "execute_result"
    }
   ],
   "source": [
    "x_y_coordinateMatrix3"
   ]
  },
  {
   "cell_type": "code",
   "execution_count": 37,
   "id": "3b05ab2b",
   "metadata": {},
   "outputs": [],
   "source": [
    "#Now stack all the videos together"
   ]
  },
  {
   "cell_type": "code",
   "execution_count": 38,
   "id": "bc278a12",
   "metadata": {},
   "outputs": [],
   "source": [
    "x_y_coordinateMatrix = np.zeros((0,225))"
   ]
  },
  {
   "cell_type": "code",
   "execution_count": 39,
   "id": "e2b0da68",
   "metadata": {},
   "outputs": [],
   "source": [
    "x_y_coordinateMatrix = np.append(x_y_coordinateMatrix,x_y_coordinateMatrix1,axis=0)"
   ]
  },
  {
   "cell_type": "code",
   "execution_count": 40,
   "id": "32da2a44",
   "metadata": {},
   "outputs": [],
   "source": [
    "x_y_coordinateMatrix = np.append(x_y_coordinateMatrix,x_y_coordinateMatrix2,axis=0)"
   ]
  },
  {
   "cell_type": "code",
   "execution_count": 41,
   "id": "c6456df1",
   "metadata": {},
   "outputs": [],
   "source": [
    "x_y_coordinateMatrix = np.append(x_y_coordinateMatrix,x_y_coordinateMatrix3,axis=0)"
   ]
  },
  {
   "cell_type": "code",
   "execution_count": 42,
   "id": "79cf9e20",
   "metadata": {},
   "outputs": [
    {
     "data": {
      "text/plain": [
       "array([[200. , 199.5, 199.5, ..., 201.5, 201.5, 201.5],\n",
       "       [170. , 170. , 169.5, ..., 216.5, 217.5, 222. ],\n",
       "       [173. , 173.5, 173. , ..., 177.5, 177. , 177. ],\n",
       "       [187.5, 183.5, 179. , ..., 117.5, 122. , 122. ],\n",
       "       [203.5, 196.5, 196.5, ..., 234. , 238.5, 239. ],\n",
       "       [170.5, 168.5, 168.5, ..., 167. , 167. , 167. ]])"
      ]
     },
     "execution_count": 42,
     "metadata": {},
     "output_type": "execute_result"
    }
   ],
   "source": [
    "x_y_coordinateMatrix"
   ]
  },
  {
   "cell_type": "code",
   "execution_count": 43,
   "id": "61aada1e",
   "metadata": {},
   "outputs": [
    {
     "data": {
      "text/plain": [
       "(6, 225)"
      ]
     },
     "execution_count": 43,
     "metadata": {},
     "output_type": "execute_result"
    }
   ],
   "source": [
    "np.shape(x_y_coordinateMatrix)"
   ]
  },
  {
   "cell_type": "code",
   "execution_count": 44,
   "id": "58359b27",
   "metadata": {},
   "outputs": [],
   "source": [
    "np.save('x_y_coordinateMatrix',x_y_coordinateMatrix)"
   ]
  },
  {
   "cell_type": "code",
   "execution_count": null,
   "id": "c30a13cd",
   "metadata": {},
   "outputs": [],
   "source": []
  },
  {
   "cell_type": "code",
   "execution_count": 45,
   "id": "ab64d643",
   "metadata": {},
   "outputs": [],
   "source": [
    "#PCA"
   ]
  },
  {
   "cell_type": "code",
   "execution_count": 46,
   "id": "036a17a0",
   "metadata": {},
   "outputs": [],
   "source": [
    "x_y_coordinateMat = np.load('x_y_coordinateMatrix.npy')"
   ]
  },
  {
   "cell_type": "code",
   "execution_count": 47,
   "id": "8ad8d890",
   "metadata": {
    "scrolled": true
   },
   "outputs": [
    {
     "data": {
      "text/plain": [
       "(6, 225)"
      ]
     },
     "execution_count": 47,
     "metadata": {},
     "output_type": "execute_result"
    }
   ],
   "source": [
    "x_y_coordinateMat.shape"
   ]
  },
  {
   "cell_type": "code",
   "execution_count": 48,
   "id": "51b8fe5f",
   "metadata": {},
   "outputs": [
    {
     "data": {
      "text/plain": [
       "[<matplotlib.lines.Line2D at 0x28ef568a1f0>]"
      ]
     },
     "execution_count": 48,
     "metadata": {},
     "output_type": "execute_result"
    },
    {
     "data": {
      "image/png": "[encoded data removed]",
      "text/plain": [
       "<Figure size 640x480 with 1 Axes>"
      ]
     },
     "metadata": {},
     "output_type": "display_data"
    }
   ],
   "source": [
    "plt.plot(x_y_coordinateMat[1,:])"
   ]
  },
  {
   "cell_type": "code",
   "execution_count": 49,
   "id": "92c53d9a",
   "metadata": {},
   "outputs": [],
   "source": [
    "#We must compute the mean\n",
    "#we want the mean row to form the mean matrix so that we can subtract it\n",
    "#from our data matrix to ensure that we work with a zero mean, gaussian matrix\n"
   ]
  },
  {
   "cell_type": "code",
   "execution_count": 50,
   "id": "71b74cbf",
   "metadata": {},
   "outputs": [
    {
     "data": {
      "text/plain": [
       "array([[  1.05111111,   0.55111111,   0.55111111, ...,   2.55111111,\n",
       "          2.55111111,   2.55111111],\n",
       "       [-25.91555556, -25.91555556, -26.41555556, ...,  20.58444444,\n",
       "         21.58444444,  26.08444444],\n",
       "       [ -4.08      ,  -3.58      ,  -4.08      , ...,   0.42      ,\n",
       "         -0.08      ,  -0.08      ],\n",
       "       [ 40.54444444,  36.54444444,  32.04444444, ..., -29.45555556,\n",
       "        -24.95555556, -24.95555556],\n",
       "       [-14.23333333, -21.23333333, -21.23333333, ...,  16.26666667,\n",
       "         20.76666667,  21.26666667],\n",
       "       [  2.64      ,   0.64      ,   0.64      , ...,  -0.86      ,\n",
       "         -0.86      ,  -0.86      ]])"
      ]
     },
     "execution_count": 50,
     "metadata": {},
     "output_type": "execute_result"
    }
   ],
   "source": [
    "row1_x = x_y_coordinateMat[0,:]\n",
    "row1_y = x_y_coordinateMat[1,:]\n",
    "row2_x = x_y_coordinateMat[2,:]\n",
    "row2_y = x_y_coordinateMat[3,:]\n",
    "row3_x = x_y_coordinateMat[4,:]\n",
    "row3_y = x_y_coordinateMat[5,:]\n",
    "\n",
    "mean1_x = np.mean(row1_x)\n",
    "mean1_y = np.mean(row1_y)\n",
    "mean2_x = np.mean(row2_x)\n",
    "mean2_y = np.mean(row2_y)\n",
    "mean3_x = np.mean(row3_x)\n",
    "mean3_y = np.mean(row3_y)\n",
    "\n",
    "x_y_coordinateMat[0,:] = x_y_coordinateMat[0,:] - mean1_x\n",
    "x_y_coordinateMat[1,:] = x_y_coordinateMat[1,:] - mean1_y\n",
    "x_y_coordinateMat[2,:] = x_y_coordinateMat[2,:] - mean2_x\n",
    "x_y_coordinateMat[3,:] = x_y_coordinateMat[3,:] - mean2_y\n",
    "x_y_coordinateMat[4,:] = x_y_coordinateMat[4,:] - mean3_x\n",
    "x_y_coordinateMat[5,:] = x_y_coordinateMat[5,:] - mean3_y\n",
    "\n",
    "NewcoordMat = x_y_coordinateMat\n",
    "\n",
    "NewcoordMat"
   ]
  },
  {
   "cell_type": "code",
   "execution_count": 51,
   "id": "6ac2dedc",
   "metadata": {},
   "outputs": [
    {
     "data": {
      "text/plain": [
       "[<matplotlib.lines.Line2D at 0x28ef5be83d0>]"
      ]
     },
     "execution_count": 51,
     "metadata": {},
     "output_type": "execute_result"
    },
    {
     "data": {
      "image/png": "[encoded data removed]",
      "text/plain": [
       "<Figure size 640x480 with 1 Axes>"
      ]
     },
     "metadata": {},
     "output_type": "display_data"
    }
   ],
   "source": [
    "plt.plot(NewcoordMat[1,:])"
   ]
  },
  {
   "cell_type": "code",
   "execution_count": 52,
   "id": "5f2a1026",
   "metadata": {},
   "outputs": [],
   "source": [
    "#Now we proceed to construct the covariance matrix, which allows us to figure out\n",
    "#which varable are mosst related to each other\n",
    "\n",
    "covariance = np.cov(NewcoordMat)"
   ]
  },
  {
   "cell_type": "code",
   "execution_count": 53,
   "id": "a33028d6",
   "metadata": {},
   "outputs": [
    {
     "data": {
      "text/plain": [
       "array([[ 2.06322421e+00, -1.40165675e+00, -1.64433036e+00,\n",
       "        -5.37281746e+00, -2.07172619e+00,  7.64017857e-01],\n",
       "       [-1.40165675e+00,  4.57097748e+02, -1.34700893e+00,\n",
       "         1.92964534e+01,  4.42303274e+02,  6.48832143e+01],\n",
       "       [-1.64433036e+00, -1.34700893e+00,  1.64042857e+01,\n",
       "        -3.97229911e+01,  5.30379464e+00, -2.83026786e+00],\n",
       "       [-5.37281746e+00,  1.92964534e+01, -3.97229911e+01,\n",
       "         8.40102927e+02, -4.57217262e+00,  3.69464286e+00],\n",
       "       [-2.07172619e+00,  4.42303274e+02,  5.30379464e+00,\n",
       "        -4.57217262e+00,  4.40779018e+02,  6.34323661e+01],\n",
       "       [ 7.64017857e-01,  6.48832143e+01, -2.83026786e+00,\n",
       "         3.69464286e+00,  6.34323661e+01,  1.22403571e+01]])"
      ]
     },
     "execution_count": 53,
     "metadata": {},
     "output_type": "execute_result"
    }
   ],
   "source": [
    "covariance"
   ]
  },
  {
   "cell_type": "code",
   "execution_count": 54,
   "id": "1becabca",
   "metadata": {},
   "outputs": [
    {
     "data": {
      "text/plain": [
       "array([[-0.04553014, -0.05818891, -0.06072627, ...,  0.0450658 ,\n",
       "         0.05523576,  0.06301255],\n",
       "       [ 0.10335458,  0.09652877,  0.08651823, ..., -0.07721239,\n",
       "        -0.06864451, -0.06995765],\n",
       "       [ 0.00173417,  0.01891045,  0.02809279, ...,  0.02917718,\n",
       "         0.0178273 ,  0.03231471],\n",
       "       ...,\n",
       "       [-0.05300717,  0.10736849,  0.08302213, ...,  0.93392136,\n",
       "        -0.06352334, -0.07379698],\n",
       "       [-0.07244602,  0.0975174 ,  0.06071303, ..., -0.06487974,\n",
       "         0.93026281, -0.0737946 ],\n",
       "       [-0.04713569,  0.12755158,  0.0781198 , ..., -0.07348098,\n",
       "        -0.07215539,  0.91703719]])"
      ]
     },
     "execution_count": 54,
     "metadata": {},
     "output_type": "execute_result"
    }
   ],
   "source": [
    "#We need to diagonalize our covariance matrix to remove redundancies.\n",
    "#A diagonalized covarance matrix implies that the off diagonals are zeros(it means our variables are independent of each other)\n",
    "\n",
    "#To this w e will use the SVD method\n",
    "\n",
    "u,s,vt = np.linalg.svd(NewcoordMat)\n",
    "\n",
    "vt"
   ]
  },
  {
   "cell_type": "code",
   "execution_count": 55,
   "id": "6e24e243",
   "metadata": {},
   "outputs": [],
   "source": [
    "#These are our Principle Components (PC's)\n",
    "ut = u.transpose()"
   ]
  },
  {
   "cell_type": "code",
   "execution_count": 56,
   "id": "ee2a6833",
   "metadata": {},
   "outputs": [],
   "source": [
    "#We can switch to the basis of thw PC's by doing the following:\n",
    "Y = np.matmul(ut,NewcoordMat)"
   ]
  },
  {
   "cell_type": "code",
   "execution_count": 57,
   "id": "09f2872e",
   "metadata": {},
   "outputs": [],
   "source": [
    "covarianceY = np.cov(Y)"
   ]
  },
  {
   "cell_type": "code",
   "execution_count": 58,
   "id": "2ee895c6",
   "metadata": {},
   "outputs": [
    {
     "data": {
      "text/plain": [
       "array([[ 9.02530048e+02, -3.49181002e-13, -2.46152305e-14,\n",
       "        -1.68500134e-13,  1.28912753e-13,  2.38539347e-14],\n",
       "       [-3.49181002e-13,  8.40472673e+02,  1.40078425e-13,\n",
       "        -6.03961325e-14, -2.81679442e-14, -3.76841415e-14],\n",
       "       [-2.46152305e-14,  1.40078425e-13,  1.69328161e+01,\n",
       "        -6.74063979e-15,  7.73984051e-15,  3.17206578e-16],\n",
       "       [-1.68500134e-13, -6.03961325e-14, -6.74063979e-15,\n",
       "         5.02887094e+00,  2.47896941e-14,  8.16806940e-16],\n",
       "       [ 1.28912753e-13, -2.81679442e-14,  7.73984051e-15,\n",
       "         2.47896941e-14,  2.41392601e+00, -1.83979816e-15],\n",
       "       [ 2.38539347e-14, -3.76841415e-14,  3.17206578e-16,\n",
       "         8.16806940e-16, -1.83979816e-15,  1.30922598e+00]])"
      ]
     },
     "execution_count": 58,
     "metadata": {},
     "output_type": "execute_result"
    }
   ],
   "source": [
    "covarianceY"
   ]
  },
  {
   "cell_type": "code",
   "execution_count": 59,
   "id": "dbf6f964",
   "metadata": {},
   "outputs": [
    {
     "data": {
      "text/plain": [
       "array([449.62954828, 433.8961612 ,  61.58693697,  33.56288264,\n",
       "        23.25337453,  17.12502904])"
      ]
     },
     "execution_count": 59,
     "metadata": {},
     "output_type": "execute_result"
    }
   ],
   "source": [
    "s"
   ]
  },
  {
   "cell_type": "code",
   "execution_count": 60,
   "id": "f8380152",
   "metadata": {},
   "outputs": [
    {
     "data": {
      "text/plain": [
       "[<matplotlib.lines.Line2D at 0x28ef5c67400>]"
      ]
     },
     "execution_count": 60,
     "metadata": {},
     "output_type": "execute_result"
    },
    {
     "data": {
      "image/png": "[encoded data removed]",
      "text/plain": [
       "<Figure size 640x480 with 1 Axes>"
      ]
     },
     "metadata": {},
     "output_type": "display_data"
    }
   ],
   "source": [
    "plt.plot(s[0]*vt[0,:])\n",
    "plt.plot(s[1]*vt[1,:])\n"
   ]
  },
  {
   "cell_type": "code",
   "execution_count": 61,
   "id": "952dd505",
   "metadata": {},
   "outputs": [],
   "source": [
    "#The blue curve is position and the orange curve is its derivative\n",
    "\n"
   ]
  },
  {
   "cell_type": "code",
   "execution_count": 88,
   "id": "6c6c0df1",
   "metadata": {},
   "outputs": [
    {
     "name": "stdout",
     "output_type": "stream",
     "text": [
      "Requirement already satisfied: pysindy in c:\\users\\vynir\\anaconda3.1\\envs\\math494\\lib\\site-packages (1.7.3)\n",
      "Requirement already satisfied: scipy in c:\\users\\vynir\\anaconda3.1\\envs\\math494\\lib\\site-packages (from pysindy) (1.10.1)\n",
      "Requirement already satisfied: scikit-learn>=0.23 in c:\\users\\vynir\\anaconda3.1\\envs\\math494\\lib\\site-packages (from pysindy) (1.0.2)\n",
      "Requirement already satisfied: derivative in c:\\users\\vynir\\anaconda3.1\\envs\\math494\\lib\\site-packages (from pysindy) (0.5.3)\n",
      "Requirement already satisfied: cmake in c:\\users\\vynir\\anaconda3.1\\envs\\math494\\lib\\site-packages (from pysindy) (3.25.2)\n",
      "Requirement already satisfied: numpy in c:\\users\\vynir\\anaconda3.1\\envs\\math494\\lib\\site-packages (from pysindy) (1.24.2)\n",
      "Requirement already satisfied: matplotlib in c:\\users\\vynir\\anaconda3.1\\envs\\math494\\lib\\site-packages (from pysindy) (3.7.1)\n",
      "Requirement already satisfied: threadpoolctl>=2.0.0 in c:\\users\\vynir\\anaconda3.1\\envs\\math494\\lib\\site-packages (from scikit-learn>=0.23->pysindy) (3.1.0)\n",
      "Requirement already satisfied: joblib>=0.11 in c:\\users\\vynir\\anaconda3.1\\envs\\math494\\lib\\site-packages (from scikit-learn>=0.23->pysindy) (1.2.0)\n",
      "Requirement already satisfied: importlib-resources>=3.2.0 in c:\\users\\vynir\\anaconda3.1\\envs\\math494\\lib\\site-packages (from matplotlib->pysindy) (5.12.0)\n",
      "Requirement already satisfied: cycler>=0.10 in c:\\users\\vynir\\anaconda3.1\\envs\\math494\\lib\\site-packages (from matplotlib->pysindy) (0.11.0)\n",
      "Requirement already satisfied: packaging>=20.0 in c:\\users\\vynir\\anaconda3.1\\envs\\math494\\lib\\site-packages (from matplotlib->pysindy) (22.0)\n",
      "Requirement already satisfied: contourpy>=1.0.1 in c:\\users\\vynir\\anaconda3.1\\envs\\math494\\lib\\site-packages (from matplotlib->pysindy) (1.0.7)\n",
      "Requirement already satisfied: pyparsing>=2.3.1 in c:\\users\\vynir\\anaconda3.1\\envs\\math494\\lib\\site-packages (from matplotlib->pysindy) (3.0.9)\n",
      "Requirement already satisfied: fonttools>=4.22.0 in c:\\users\\vynir\\anaconda3.1\\envs\\math494\\lib\\site-packages (from matplotlib->pysindy) (4.38.0)\n",
      "Requirement already satisfied: pillow>=6.2.0 in c:\\users\\vynir\\anaconda3.1\\envs\\math494\\lib\\site-packages (from matplotlib->pysindy) (9.4.0)\n",
      "Requirement already satisfied: kiwisolver>=1.0.1 in c:\\users\\vynir\\anaconda3.1\\envs\\math494\\lib\\site-packages (from matplotlib->pysindy) (1.4.4)\n",
      "Requirement already satisfied: python-dateutil>=2.7 in c:\\users\\vynir\\anaconda3.1\\envs\\math494\\lib\\site-packages (from matplotlib->pysindy) (2.8.2)\n",
      "Requirement already satisfied: zipp>=3.1.0 in c:\\users\\vynir\\anaconda3.1\\envs\\math494\\lib\\site-packages (from importlib-resources>=3.2.0->matplotlib->pysindy) (3.15.0)\n",
      "Requirement already satisfied: six>=1.5 in c:\\users\\vynir\\anaconda3.1\\envs\\math494\\lib\\site-packages (from python-dateutil>=2.7->matplotlib->pysindy) (1.16.0)\n"
     ]
    }
   ],
   "source": [
    "#SINDy METHOD\n",
    "\n",
    "!pip install pysindy"
   ]
  },
  {
   "cell_type": "code",
   "execution_count": 62,
   "id": "38d1c7ed",
   "metadata": {},
   "outputs": [],
   "source": [
    "import pysindy as ps"
   ]
  },
  {
   "cell_type": "code",
   "execution_count": 63,
   "id": "23a1f144",
   "metadata": {},
   "outputs": [
    {
     "data": {
      "text/plain": [
       "array([[  1.05111111,   0.55111111,   0.55111111, ...,   2.55111111,\n",
       "          2.55111111,   2.55111111],\n",
       "       [-25.91555556, -25.91555556, -26.41555556, ...,  20.58444444,\n",
       "         21.58444444,  26.08444444],\n",
       "       [ -4.08      ,  -3.58      ,  -4.08      , ...,   0.42      ,\n",
       "         -0.08      ,  -0.08      ],\n",
       "       [ 40.54444444,  36.54444444,  32.04444444, ..., -29.45555556,\n",
       "        -24.95555556, -24.95555556],\n",
       "       [-14.23333333, -21.23333333, -21.23333333, ...,  16.26666667,\n",
       "         20.76666667,  21.26666667],\n",
       "       [  2.64      ,   0.64      ,   0.64      , ...,  -0.86      ,\n",
       "         -0.86      ,  -0.86      ]])"
      ]
     },
     "execution_count": 63,
     "metadata": {},
     "output_type": "execute_result"
    }
   ],
   "source": [
    "NewcoordMat"
   ]
  },
  {
   "cell_type": "code",
   "execution_count": 64,
   "id": "07e7bfe1",
   "metadata": {},
   "outputs": [],
   "source": [
    "coordRedux = (u[:,0:2].transpose())@NewcoordMat"
   ]
  },
  {
   "cell_type": "code",
   "execution_count": 65,
   "id": "8527b36d",
   "metadata": {},
   "outputs": [
    {
     "data": {
      "text/plain": [
       "(2, 225)"
      ]
     },
     "execution_count": 65,
     "metadata": {},
     "output_type": "execute_result"
    }
   ],
   "source": [
    "coordRedux.shape"
   ]
  },
  {
   "cell_type": "code",
   "execution_count": 66,
   "id": "971333c0",
   "metadata": {},
   "outputs": [],
   "source": [
    "coordReduxT = coordRedux.transpose()"
   ]
  },
  {
   "cell_type": "code",
   "execution_count": 67,
   "id": "f5e4a01e",
   "metadata": {},
   "outputs": [],
   "source": [
    "x = coordReduxT[:,0]\n",
    "y = coordReduxT[:,1]"
   ]
  },
  {
   "cell_type": "code",
   "execution_count": 68,
   "id": "9aec46d4",
   "metadata": {},
   "outputs": [],
   "source": [
    "featureNames = ['x','y']"
   ]
  },
  {
   "cell_type": "code",
   "execution_count": 69,
   "id": "f9216667",
   "metadata": {},
   "outputs": [],
   "source": [
    "opt = ps.STLSQ(threshold = 0.1)"
   ]
  },
  {
   "cell_type": "code",
   "execution_count": 70,
   "id": "248de295",
   "metadata": {},
   "outputs": [],
   "source": [
    "model = ps.SINDy(feature_names =featureNames, optimizer = opt)"
   ]
  },
  {
   "cell_type": "code",
   "execution_count": 71,
   "id": "35bc6336",
   "metadata": {},
   "outputs": [
    {
     "data": {
      "text/plain": [
       "SINDy(differentiation_method=FiniteDifference(),\n",
       "      feature_library=PolynomialLibrary(), feature_names=['x', 'y'],\n",
       "      optimizer=STLSQ())"
      ]
     },
     "execution_count": 71,
     "metadata": {},
     "output_type": "execute_result"
    }
   ],
   "source": [
    "model.fit(coordReduxT, t = 11/226)"
   ]
  },
  {
   "cell_type": "code",
   "execution_count": 72,
   "id": "5dde9bf1",
   "metadata": {},
   "outputs": [
    {
     "name": "stdout",
     "output_type": "stream",
     "text": [
      "(x)' = 4.099 1 + -3.262 y\n",
      "(y)' = -7.161 1 + 3.011 x\n"
     ]
    }
   ],
   "source": [
    "model.print()"
   ]
  },
  {
   "cell_type": "code",
   "execution_count": 73,
   "id": "18c32801",
   "metadata": {},
   "outputs": [],
   "source": [
    "#We must integrate to find  (x) and (y)\n",
    "from scipy.integrate import odeint\n",
    "def function(z,t):\n",
    "    a=4.099\n",
    "    b=-3.262\n",
    "    c=-7.161\n",
    "    d=3.011\n",
    "    dxdt = a + b*z[1]\n",
    "    dydt = c + d*z[0]\n",
    "    \n",
    "    dzdt = [dxdt,dydt]\n",
    "    return dzdt"
   ]
  },
  {
   "cell_type": "code",
   "execution_count": 75,
   "id": "b0a821f8",
   "metadata": {},
   "outputs": [],
   "source": [
    "#Define your initial condition (its the first row of your projected data)\n",
    "z0 = [coordReduxT[0,0],coordReduxT[0,1]]"
   ]
  },
  {
   "cell_type": "code",
   "execution_count": 76,
   "id": "a4ab684a",
   "metadata": {},
   "outputs": [],
   "source": [
    "#Time points\n",
    "t = np.arange(0,11,11/226)"
   ]
  },
  {
   "cell_type": "code",
   "execution_count": 77,
   "id": "7359a5f7",
   "metadata": {},
   "outputs": [],
   "source": [
    "#This will solve the ODE (it will integrate it)\n",
    "z = odeint(function, z0, t)"
   ]
  },
  {
   "cell_type": "code",
   "execution_count": 78,
   "id": "ebce7756",
   "metadata": {},
   "outputs": [
    {
     "data": {
      "text/plain": [
       "[<matplotlib.lines.Line2D at 0x28efe429e50>]"
      ]
     },
     "execution_count": 78,
     "metadata": {},
     "output_type": "execute_result"
    },
    {
     "data": {
      "image/png": "[encoded data removed]",
      "text/plain": [
       "<Figure size 640x480 with 1 Axes>"
      ]
     },
     "metadata": {},
     "output_type": "display_data"
    }
   ],
   "source": [
    "#Now z wiil be a matrix with 2 columns\n",
    "plt.plot(t,z[:,0]) #this is x(t)\n",
    "plt.plot(t,z[:,1]) #this is y(t)"
   ]
  },
  {
   "cell_type": "code",
   "execution_count": null,
   "id": "2813ce00",
   "metadata": {},
   "outputs": [],
   "source": []
  },
  {
   "cell_type": "code",
   "execution_count": null,
   "id": "ca1e6c9c",
   "metadata": {},
   "outputs": [],
   "source": []
  },
  {
   "cell_type": "code",
   "execution_count": null,
   "id": "9078e1cf",
   "metadata": {},
   "outputs": [],
   "source": []
  }
 ],
 "metadata": {
  "kernelspec": {
   "display_name": "Python 3 (ipykernel)",
   "language": "python",
   "name": "python3"
  },
  "language_info": {
   "codemirror_mode": {
    "name": "ipython",
    "version": 3
   },
   "file_extension": ".py",
   "mimetype": "text/x-python",
   "name": "python",
   "nbconvert_exporter": "python",
   "pygments_lexer": "ipython3",
   "version": "3.9.16"
  }
 },
 "nbformat": 4,
 "nbformat_minor": 5
}
