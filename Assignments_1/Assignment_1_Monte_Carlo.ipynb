{
  "cells": [
    {
      "cell_type": "markdown",
      "source": [
        "# **Installs**"
      ],
      "metadata": {
        "id": "K3jvuGXoAkpm"
      }
    },
    {
      "cell_type": "code",
      "execution_count": null,
      "metadata": {
        "colab": {
          "base_uri": "https://localhost:8080/"
        },
        "id": "b98RZwOcohZe",
        "outputId": "ce44406a-fba3-4546-f975-5af16d44a7ba"
      },
      "outputs": [
        {
          "output_type": "stream",
          "name": "stdout",
          "text": [
            "Looking in indexes: https://pypi.org/simple, https://us-python.pkg.dev/colab-wheels/public/simple/\n",
            "Collecting scikit-video\n",
            "  Downloading scikit_video-1.1.11-py2.py3-none-any.whl (2.3 MB)\n",
            "\u001b[2K     \u001b[90m━━━━━━━━━━━━━━━━━━━━━━━━━━━━━━━━━━━━━━━━\u001b[0m \u001b[32m2.3/2.3 MB\u001b[0m \u001b[31m8.5 MB/s\u001b[0m eta \u001b[36m0:00:00\u001b[0m\n",
            "\u001b[?25hRequirement already satisfied: pillow in /usr/local/lib/python3.8/dist-packages (from scikit-video) (7.1.2)\n",
            "Requirement already satisfied: scipy in /usr/local/lib/python3.8/dist-packages (from scikit-video) (1.7.3)\n",
            "Requirement already satisfied: numpy in /usr/local/lib/python3.8/dist-packages (from scikit-video) (1.21.6)\n",
            "Installing collected packages: scikit-video\n",
            "Successfully installed scikit-video-1.1.11\n"
          ]
        }
      ],
      "source": [
        "! pip install scikit-video"
      ]
    },
    {
      "cell_type": "markdown",
      "metadata": {
        "id": "paKb0ofQSPR3"
      },
      "source": [
        "# Download **Video Data**"
      ]
    },
    {
      "cell_type": "code",
      "execution_count": null,
      "metadata": {
        "id": "c7suTKVkppq-"
      },
      "outputs": [],
      "source": [
        "#downloading video data\n",
        "import skvideo.io\n",
        "import numpy as np\n",
        "video_array = skvideo.io.vread(\"/content/drive/MyDrive/494 videos/monte_carlo_low (1).mp4\")"
      ]
    },
    {
      "cell_type": "code",
      "source": [
        "video_array.shape"
      ],
      "metadata": {
        "colab": {
          "base_uri": "https://localhost:8080/"
        },
        "id": "2Pwt7kcHWpTe",
        "outputId": "95fb5461-cc95-4801-cd28-61ddef0b2e30"
      },
      "execution_count": null,
      "outputs": [
        {
          "output_type": "execute_result",
          "data": {
            "text/plain": [
              "(379, 540, 960, 3)"
            ]
          },
          "metadata": {},
          "execution_count": 5
        }
      ]
    },
    {
      "cell_type": "code",
      "execution_count": null,
      "metadata": {
        "id": "5T-XtHG3AuJo",
        "colab": {
          "base_uri": "https://localhost:8080/"
        },
        "outputId": "d6af8ac2-349a-4d6b-e921-724cdeb934f1"
      },
      "outputs": [
        {
          "output_type": "stream",
          "name": "stdout",
          "text": [
            "(540, 960, 3)\n",
            "(540, 960, 3)\n",
            "(540, 960, 3)\n",
            "(540, 960, 3)\n",
            "(540, 960, 3)\n",
            "(540, 960, 3)\n",
            "(540, 960, 3)\n",
            "(540, 960, 3)\n",
            "(540, 960, 3)\n",
            "(540, 960, 3)\n",
            "(540, 960, 3)\n",
            "(540, 960, 3)\n",
            "(540, 960, 3)\n",
            "(540, 960, 3)\n",
            "(540, 960, 3)\n",
            "(540, 960, 3)\n",
            "(540, 960, 3)\n",
            "(540, 960, 3)\n",
            "(540, 960, 3)\n",
            "(540, 960, 3)\n",
            "(540, 960, 3)\n",
            "(540, 960, 3)\n",
            "(540, 960, 3)\n",
            "(540, 960, 3)\n",
            "(540, 960, 3)\n",
            "(540, 960, 3)\n",
            "(540, 960, 3)\n",
            "(540, 960, 3)\n",
            "(540, 960, 3)\n",
            "(540, 960, 3)\n",
            "(540, 960, 3)\n",
            "(540, 960, 3)\n",
            "(540, 960, 3)\n",
            "(540, 960, 3)\n",
            "(540, 960, 3)\n",
            "(540, 960, 3)\n",
            "(540, 960, 3)\n",
            "(540, 960, 3)\n",
            "(540, 960, 3)\n",
            "(540, 960, 3)\n",
            "(540, 960, 3)\n",
            "(540, 960, 3)\n",
            "(540, 960, 3)\n",
            "(540, 960, 3)\n",
            "(540, 960, 3)\n",
            "(540, 960, 3)\n",
            "(540, 960, 3)\n",
            "(540, 960, 3)\n",
            "(540, 960, 3)\n",
            "(540, 960, 3)\n",
            "(540, 960, 3)\n",
            "(540, 960, 3)\n",
            "(540, 960, 3)\n",
            "(540, 960, 3)\n",
            "(540, 960, 3)\n",
            "(540, 960, 3)\n",
            "(540, 960, 3)\n",
            "(540, 960, 3)\n",
            "(540, 960, 3)\n",
            "(540, 960, 3)\n",
            "(540, 960, 3)\n",
            "(540, 960, 3)\n",
            "(540, 960, 3)\n",
            "(540, 960, 3)\n",
            "(540, 960, 3)\n",
            "(540, 960, 3)\n",
            "(540, 960, 3)\n",
            "(540, 960, 3)\n",
            "(540, 960, 3)\n",
            "(540, 960, 3)\n",
            "(540, 960, 3)\n",
            "(540, 960, 3)\n",
            "(540, 960, 3)\n",
            "(540, 960, 3)\n",
            "(540, 960, 3)\n",
            "(540, 960, 3)\n",
            "(540, 960, 3)\n",
            "(540, 960, 3)\n",
            "(540, 960, 3)\n",
            "(540, 960, 3)\n",
            "(540, 960, 3)\n",
            "(540, 960, 3)\n",
            "(540, 960, 3)\n",
            "(540, 960, 3)\n",
            "(540, 960, 3)\n",
            "(540, 960, 3)\n",
            "(540, 960, 3)\n",
            "(540, 960, 3)\n",
            "(540, 960, 3)\n",
            "(540, 960, 3)\n",
            "(540, 960, 3)\n",
            "(540, 960, 3)\n",
            "(540, 960, 3)\n",
            "(540, 960, 3)\n",
            "(540, 960, 3)\n",
            "(540, 960, 3)\n",
            "(540, 960, 3)\n",
            "(540, 960, 3)\n",
            "(540, 960, 3)\n",
            "(540, 960, 3)\n",
            "(540, 960, 3)\n",
            "(540, 960, 3)\n",
            "(540, 960, 3)\n",
            "(540, 960, 3)\n",
            "(540, 960, 3)\n",
            "(540, 960, 3)\n",
            "(540, 960, 3)\n",
            "(540, 960, 3)\n",
            "(540, 960, 3)\n",
            "(540, 960, 3)\n",
            "(540, 960, 3)\n",
            "(540, 960, 3)\n",
            "(540, 960, 3)\n",
            "(540, 960, 3)\n",
            "(540, 960, 3)\n",
            "(540, 960, 3)\n",
            "(540, 960, 3)\n",
            "(540, 960, 3)\n",
            "(540, 960, 3)\n",
            "(540, 960, 3)\n",
            "(540, 960, 3)\n",
            "(540, 960, 3)\n",
            "(540, 960, 3)\n",
            "(540, 960, 3)\n",
            "(540, 960, 3)\n",
            "(540, 960, 3)\n",
            "(540, 960, 3)\n",
            "(540, 960, 3)\n",
            "(540, 960, 3)\n",
            "(540, 960, 3)\n",
            "(540, 960, 3)\n",
            "(540, 960, 3)\n",
            "(540, 960, 3)\n",
            "(540, 960, 3)\n",
            "(540, 960, 3)\n",
            "(540, 960, 3)\n",
            "(540, 960, 3)\n",
            "(540, 960, 3)\n",
            "(540, 960, 3)\n",
            "(540, 960, 3)\n",
            "(540, 960, 3)\n",
            "(540, 960, 3)\n",
            "(540, 960, 3)\n",
            "(540, 960, 3)\n",
            "(540, 960, 3)\n",
            "(540, 960, 3)\n",
            "(540, 960, 3)\n",
            "(540, 960, 3)\n",
            "(540, 960, 3)\n",
            "(540, 960, 3)\n",
            "(540, 960, 3)\n",
            "(540, 960, 3)\n",
            "(540, 960, 3)\n",
            "(540, 960, 3)\n",
            "(540, 960, 3)\n",
            "(540, 960, 3)\n",
            "(540, 960, 3)\n",
            "(540, 960, 3)\n",
            "(540, 960, 3)\n",
            "(540, 960, 3)\n",
            "(540, 960, 3)\n",
            "(540, 960, 3)\n",
            "(540, 960, 3)\n",
            "(540, 960, 3)\n",
            "(540, 960, 3)\n",
            "(540, 960, 3)\n",
            "(540, 960, 3)\n",
            "(540, 960, 3)\n",
            "(540, 960, 3)\n",
            "(540, 960, 3)\n",
            "(540, 960, 3)\n",
            "(540, 960, 3)\n",
            "(540, 960, 3)\n",
            "(540, 960, 3)\n",
            "(540, 960, 3)\n",
            "(540, 960, 3)\n",
            "(540, 960, 3)\n",
            "(540, 960, 3)\n",
            "(540, 960, 3)\n",
            "(540, 960, 3)\n",
            "(540, 960, 3)\n",
            "(540, 960, 3)\n",
            "(540, 960, 3)\n",
            "(540, 960, 3)\n",
            "(540, 960, 3)\n",
            "(540, 960, 3)\n",
            "(540, 960, 3)\n",
            "(540, 960, 3)\n",
            "(540, 960, 3)\n",
            "(540, 960, 3)\n",
            "(540, 960, 3)\n",
            "(540, 960, 3)\n",
            "(540, 960, 3)\n",
            "(540, 960, 3)\n",
            "(540, 960, 3)\n",
            "(540, 960, 3)\n",
            "(540, 960, 3)\n",
            "(540, 960, 3)\n",
            "(540, 960, 3)\n",
            "(540, 960, 3)\n",
            "(540, 960, 3)\n",
            "(540, 960, 3)\n",
            "(540, 960, 3)\n",
            "(540, 960, 3)\n",
            "(540, 960, 3)\n",
            "(540, 960, 3)\n",
            "(540, 960, 3)\n",
            "(540, 960, 3)\n",
            "(540, 960, 3)\n",
            "(540, 960, 3)\n",
            "(540, 960, 3)\n",
            "(540, 960, 3)\n",
            "(540, 960, 3)\n",
            "(540, 960, 3)\n",
            "(540, 960, 3)\n",
            "(540, 960, 3)\n",
            "(540, 960, 3)\n",
            "(540, 960, 3)\n",
            "(540, 960, 3)\n",
            "(540, 960, 3)\n",
            "(540, 960, 3)\n",
            "(540, 960, 3)\n",
            "(540, 960, 3)\n",
            "(540, 960, 3)\n",
            "(540, 960, 3)\n",
            "(540, 960, 3)\n",
            "(540, 960, 3)\n",
            "(540, 960, 3)\n",
            "(540, 960, 3)\n",
            "(540, 960, 3)\n",
            "(540, 960, 3)\n",
            "(540, 960, 3)\n",
            "(540, 960, 3)\n",
            "(540, 960, 3)\n",
            "(540, 960, 3)\n",
            "(540, 960, 3)\n",
            "(540, 960, 3)\n",
            "(540, 960, 3)\n",
            "(540, 960, 3)\n",
            "(540, 960, 3)\n",
            "(540, 960, 3)\n",
            "(540, 960, 3)\n",
            "(540, 960, 3)\n",
            "(540, 960, 3)\n",
            "(540, 960, 3)\n",
            "(540, 960, 3)\n",
            "(540, 960, 3)\n",
            "(540, 960, 3)\n",
            "(540, 960, 3)\n",
            "(540, 960, 3)\n",
            "(540, 960, 3)\n",
            "(540, 960, 3)\n",
            "(540, 960, 3)\n",
            "(540, 960, 3)\n",
            "(540, 960, 3)\n",
            "(540, 960, 3)\n",
            "(540, 960, 3)\n",
            "(540, 960, 3)\n",
            "(540, 960, 3)\n",
            "(540, 960, 3)\n",
            "(540, 960, 3)\n",
            "(540, 960, 3)\n",
            "(540, 960, 3)\n",
            "(540, 960, 3)\n",
            "(540, 960, 3)\n",
            "(540, 960, 3)\n",
            "(540, 960, 3)\n",
            "(540, 960, 3)\n",
            "(540, 960, 3)\n",
            "(540, 960, 3)\n",
            "(540, 960, 3)\n",
            "(540, 960, 3)\n",
            "(540, 960, 3)\n",
            "(540, 960, 3)\n",
            "(540, 960, 3)\n",
            "(540, 960, 3)\n",
            "(540, 960, 3)\n",
            "(540, 960, 3)\n",
            "(540, 960, 3)\n",
            "(540, 960, 3)\n",
            "(540, 960, 3)\n",
            "(540, 960, 3)\n",
            "(540, 960, 3)\n",
            "(540, 960, 3)\n",
            "(540, 960, 3)\n",
            "(540, 960, 3)\n",
            "(540, 960, 3)\n",
            "(540, 960, 3)\n",
            "(540, 960, 3)\n",
            "(540, 960, 3)\n",
            "(540, 960, 3)\n",
            "(540, 960, 3)\n",
            "(540, 960, 3)\n",
            "(540, 960, 3)\n",
            "(540, 960, 3)\n",
            "(540, 960, 3)\n",
            "(540, 960, 3)\n",
            "(540, 960, 3)\n",
            "(540, 960, 3)\n",
            "(540, 960, 3)\n",
            "(540, 960, 3)\n",
            "(540, 960, 3)\n",
            "(540, 960, 3)\n",
            "(540, 960, 3)\n",
            "(540, 960, 3)\n",
            "(540, 960, 3)\n",
            "(540, 960, 3)\n",
            "(540, 960, 3)\n",
            "(540, 960, 3)\n",
            "(540, 960, 3)\n",
            "(540, 960, 3)\n",
            "(540, 960, 3)\n",
            "(540, 960, 3)\n",
            "(540, 960, 3)\n",
            "(540, 960, 3)\n",
            "(540, 960, 3)\n",
            "(540, 960, 3)\n",
            "(540, 960, 3)\n",
            "(540, 960, 3)\n",
            "(540, 960, 3)\n",
            "(540, 960, 3)\n",
            "(540, 960, 3)\n",
            "(540, 960, 3)\n",
            "(540, 960, 3)\n",
            "(540, 960, 3)\n",
            "(540, 960, 3)\n",
            "(540, 960, 3)\n",
            "(540, 960, 3)\n",
            "(540, 960, 3)\n",
            "(540, 960, 3)\n",
            "(540, 960, 3)\n",
            "(540, 960, 3)\n",
            "(540, 960, 3)\n",
            "(540, 960, 3)\n",
            "(540, 960, 3)\n",
            "(540, 960, 3)\n",
            "(540, 960, 3)\n",
            "(540, 960, 3)\n",
            "(540, 960, 3)\n",
            "(540, 960, 3)\n",
            "(540, 960, 3)\n",
            "(540, 960, 3)\n",
            "(540, 960, 3)\n",
            "(540, 960, 3)\n",
            "(540, 960, 3)\n",
            "(540, 960, 3)\n",
            "(540, 960, 3)\n",
            "(540, 960, 3)\n",
            "(540, 960, 3)\n",
            "(540, 960, 3)\n",
            "(540, 960, 3)\n",
            "(540, 960, 3)\n",
            "(540, 960, 3)\n",
            "(540, 960, 3)\n",
            "(540, 960, 3)\n",
            "(540, 960, 3)\n",
            "(540, 960, 3)\n",
            "(540, 960, 3)\n",
            "(540, 960, 3)\n",
            "(540, 960, 3)\n",
            "(540, 960, 3)\n",
            "(540, 960, 3)\n",
            "(540, 960, 3)\n",
            "(540, 960, 3)\n",
            "(540, 960, 3)\n",
            "(540, 960, 3)\n",
            "(540, 960, 3)\n",
            "(540, 960, 3)\n",
            "(540, 960, 3)\n",
            "(540, 960, 3)\n",
            "(540, 960, 3)\n",
            "(540, 960, 3)\n",
            "(540, 960, 3)\n",
            "(540, 960, 3)\n",
            "(540, 960, 3)\n",
            "(540, 960, 3)\n",
            "(540, 960, 3)\n",
            "(540, 960, 3)\n",
            "(540, 960, 3)\n"
          ]
        }
      ],
      "source": [
        "#reshaping data to see frames\n",
        "for frame in video_array:\n",
        "    print(frame.shape)"
      ]
    },
    {
      "cell_type": "code",
      "execution_count": null,
      "metadata": {
        "id": "LS-6zSkyBy7s"
      },
      "outputs": [],
      "source": [
        "#len(video_array)# "
      ]
    },
    {
      "cell_type": "code",
      "execution_count": null,
      "metadata": {
        "id": "XxQGDKB2O0VI"
      },
      "outputs": [],
      "source": [
        "#np.shape(np.stack(video_array,axis=-1))"
      ]
    },
    {
      "cell_type": "code",
      "execution_count": null,
      "metadata": {
        "id": "UZF2QuRcZh-1"
      },
      "outputs": [],
      "source": [
        "#np.stack(video_array,axis=0)\n"
      ]
    },
    {
      "cell_type": "markdown",
      "metadata": {
        "id": "X8sqTT7JRyu2"
      },
      "source": [
        "# Convert to **Grayscale** and create **Collumn Matrix**"
      ]
    },
    {
      "cell_type": "code",
      "execution_count": null,
      "metadata": {
        "id": "0t_ibHR2Gj8n",
        "colab": {
          "base_uri": "https://localhost:8080/"
        },
        "outputId": "521c6776-988d-43db-adcf-a2181fb6547f"
      },
      "outputs": [
        {
          "output_type": "stream",
          "name": "stdout",
          "text": [
            "[[[[ 16.6393]\n",
            "   [ 16.6393]\n",
            "   [ 16.6393]\n",
            "   ...\n",
            "   [ 60.9939]\n",
            "   [ 61.9938]\n",
            "   [ 61.9938]]\n",
            "\n",
            "  [[ 18.6391]\n",
            "   [ 18.6391]\n",
            "   [ 18.6391]\n",
            "   ...\n",
            "   [ 66.9933]\n",
            "   [ 66.9933]\n",
            "   [ 66.9933]]\n",
            "\n",
            "  [[ 22.6387]\n",
            "   [ 22.6387]\n",
            "   [ 22.6387]\n",
            "   ...\n",
            "   [ 78.9921]\n",
            "   [ 78.9921]\n",
            "   [ 78.9921]]\n",
            "\n",
            "  ...\n",
            "\n",
            "  [[100.3581]\n",
            "   [100.3581]\n",
            "   [100.3581]\n",
            "   ...\n",
            "   [162.8079]\n",
            "   [162.8079]\n",
            "   [152.8089]]\n",
            "\n",
            "  [[101.1839]\n",
            "   [101.1839]\n",
            "   [101.1839]\n",
            "   ...\n",
            "   [164.4056]\n",
            "   [166.4054]\n",
            "   [164.4056]]\n",
            "\n",
            "  [[101.1839]\n",
            "   [101.1839]\n",
            "   [101.1839]\n",
            "   ...\n",
            "   [164.4056]\n",
            "   [161.4059]\n",
            "   [160.406 ]]]\n",
            "\n",
            "\n",
            " [[[ 17.6392]\n",
            "   [ 17.6392]\n",
            "   [ 17.6392]\n",
            "   ...\n",
            "   [ 61.9938]\n",
            "   [ 61.9938]\n",
            "   [ 61.9938]]\n",
            "\n",
            "  [[ 19.639 ]\n",
            "   [ 19.639 ]\n",
            "   [ 19.639 ]\n",
            "   ...\n",
            "   [ 71.9928]\n",
            "   [ 71.9928]\n",
            "   [ 71.9928]]\n",
            "\n",
            "  [[ 24.6385]\n",
            "   [ 24.6385]\n",
            "   [ 24.6385]\n",
            "   ...\n",
            "   [ 82.9917]\n",
            "   [ 82.9917]\n",
            "   [ 82.9917]]\n",
            "\n",
            "  ...\n",
            "\n",
            "  [[100.3581]\n",
            "   [100.3581]\n",
            "   [100.3581]\n",
            "   ...\n",
            "   [163.8078]\n",
            "   [165.8076]\n",
            "   [157.8084]]\n",
            "\n",
            "  [[101.1839]\n",
            "   [101.1839]\n",
            "   [101.1839]\n",
            "   ...\n",
            "   [164.4056]\n",
            "   [167.4053]\n",
            "   [165.4055]]\n",
            "\n",
            "  [[101.1839]\n",
            "   [101.1839]\n",
            "   [101.1839]\n",
            "   ...\n",
            "   [164.4056]\n",
            "   [161.4059]\n",
            "   [159.4061]]]\n",
            "\n",
            "\n",
            " [[[ 17.6392]\n",
            "   [ 17.6392]\n",
            "   [ 17.6392]\n",
            "   ...\n",
            "   [ 61.9938]\n",
            "   [ 61.9938]\n",
            "   [ 61.9938]]\n",
            "\n",
            "  [[ 19.639 ]\n",
            "   [ 19.639 ]\n",
            "   [ 21.6388]\n",
            "   ...\n",
            "   [ 71.9928]\n",
            "   [ 71.9928]\n",
            "   [ 71.9928]]\n",
            "\n",
            "  [[ 24.6385]\n",
            "   [ 24.6385]\n",
            "   [ 24.6385]\n",
            "   ...\n",
            "   [ 82.9917]\n",
            "   [ 82.9917]\n",
            "   [ 82.9917]]\n",
            "\n",
            "  ...\n",
            "\n",
            "  [[100.3581]\n",
            "   [100.3581]\n",
            "   [100.3581]\n",
            "   ...\n",
            "   [163.8078]\n",
            "   [165.8076]\n",
            "   [157.8084]]\n",
            "\n",
            "  [[101.1839]\n",
            "   [101.1839]\n",
            "   [101.1839]\n",
            "   ...\n",
            "   [164.4056]\n",
            "   [167.4053]\n",
            "   [165.4055]]\n",
            "\n",
            "  [[101.1839]\n",
            "   [101.1839]\n",
            "   [101.1839]\n",
            "   ...\n",
            "   [164.4056]\n",
            "   [161.4059]\n",
            "   [159.4061]]]\n",
            "\n",
            "\n",
            " ...\n",
            "\n",
            "\n",
            " [[[ 24.7094]\n",
            "   [ 24.7094]\n",
            "   [ 25.7093]\n",
            "   ...\n",
            "   [114.7112]\n",
            "   [114.3692]\n",
            "   [114.3692]]\n",
            "\n",
            "  [[ 25.7093]\n",
            "   [ 25.7093]\n",
            "   [ 24.7094]\n",
            "   ...\n",
            "   [114.7112]\n",
            "   [113.3693]\n",
            "   [113.3693]]\n",
            "\n",
            "  [[ 25.3888]\n",
            "   [ 25.3888]\n",
            "   [ 25.3888]\n",
            "   ...\n",
            "   [109.7395]\n",
            "   [109.7395]\n",
            "   [109.7395]]\n",
            "\n",
            "  ...\n",
            "\n",
            "  [[101.9558]\n",
            "   [100.9559]\n",
            "   [100.9559]\n",
            "   ...\n",
            "   [161.4059]\n",
            "   [161.4059]\n",
            "   [161.4059]]\n",
            "\n",
            "  [[101.9558]\n",
            "   [100.9559]\n",
            "   [100.9559]\n",
            "   ...\n",
            "   [160.406 ]\n",
            "   [160.406 ]\n",
            "   [160.406 ]]\n",
            "\n",
            "  [[101.9558]\n",
            "   [100.9559]\n",
            "   [100.9559]\n",
            "   ...\n",
            "   [160.406 ]\n",
            "   [160.406 ]\n",
            "   [160.406 ]]]\n",
            "\n",
            "\n",
            " [[[ 24.7094]\n",
            "   [ 24.7094]\n",
            "   [ 25.7093]\n",
            "   ...\n",
            "   [114.3692]\n",
            "   [114.1412]\n",
            "   [114.1412]]\n",
            "\n",
            "  [[ 25.7093]\n",
            "   [ 25.7093]\n",
            "   [ 24.7094]\n",
            "   ...\n",
            "   [114.3692]\n",
            "   [113.1413]\n",
            "   [113.1413]]\n",
            "\n",
            "  [[ 25.3888]\n",
            "   [ 25.3888]\n",
            "   [ 25.3888]\n",
            "   ...\n",
            "   [109.5115]\n",
            "   [109.5115]\n",
            "   [109.5115]]\n",
            "\n",
            "  ...\n",
            "\n",
            "  [[101.9558]\n",
            "   [100.9559]\n",
            "   [100.9559]\n",
            "   ...\n",
            "   [161.4059]\n",
            "   [161.4059]\n",
            "   [161.4059]]\n",
            "\n",
            "  [[101.9558]\n",
            "   [100.9559]\n",
            "   [100.9559]\n",
            "   ...\n",
            "   [160.406 ]\n",
            "   [160.406 ]\n",
            "   [160.406 ]]\n",
            "\n",
            "  [[101.9558]\n",
            "   [100.9559]\n",
            "   [100.9559]\n",
            "   ...\n",
            "   [160.406 ]\n",
            "   [160.406 ]\n",
            "   [160.406 ]]]\n",
            "\n",
            "\n",
            " [[[ 24.7094]\n",
            "   [ 24.7094]\n",
            "   [ 25.7093]\n",
            "   ...\n",
            "   [114.7112]\n",
            "   [114.3692]\n",
            "   [114.3692]]\n",
            "\n",
            "  [[ 25.7093]\n",
            "   [ 25.7093]\n",
            "   [ 24.7094]\n",
            "   ...\n",
            "   [114.7112]\n",
            "   [113.3693]\n",
            "   [113.3693]]\n",
            "\n",
            "  [[ 25.3888]\n",
            "   [ 25.3888]\n",
            "   [ 25.3888]\n",
            "   ...\n",
            "   [109.7395]\n",
            "   [109.7395]\n",
            "   [109.7395]]\n",
            "\n",
            "  ...\n",
            "\n",
            "  [[101.9558]\n",
            "   [100.9559]\n",
            "   [100.9559]\n",
            "   ...\n",
            "   [161.4059]\n",
            "   [161.4059]\n",
            "   [161.4059]]\n",
            "\n",
            "  [[101.9558]\n",
            "   [100.9559]\n",
            "   [100.9559]\n",
            "   ...\n",
            "   [160.406 ]\n",
            "   [160.406 ]\n",
            "   [160.406 ]]\n",
            "\n",
            "  [[101.9558]\n",
            "   [100.9559]\n",
            "   [100.9559]\n",
            "   ...\n",
            "   [160.406 ]\n",
            "   [160.406 ]\n",
            "   [160.406 ]]]]\n"
          ]
        },
        {
          "output_type": "execute_result",
          "data": {
            "text/plain": [
              "(379, 540, 960, 1)"
            ]
          },
          "metadata": {},
          "execution_count": 6
        }
      ],
      "source": [
        "#convert to grayscale to manipulate data easier\n",
        "video_array_gray = skvideo.utils.rgb2gray(video_array)\n",
        "print(video_array_gray)\n",
        "\n",
        "video_array_gray.shape"
      ]
    },
    {
      "cell_type": "code",
      "execution_count": null,
      "metadata": {
        "id": "RoVKIVluZl6R"
      },
      "outputs": [],
      "source": [
        "#creating the data matrix\n",
        "c = []\n",
        "for frame in video_array_gray:\n",
        "    b=frame.reshape((540*960))\n",
        "    c.append(b)\n",
        "    \n",
        "print(np.shape(c))\n",
        "\n",
        "data = np.transpose(c)\n",
        "  \n",
        "print(np.shape(data))\n",
        "\n",
        "print(data)\n"
      ]
    },
    {
      "cell_type": "markdown",
      "metadata": {
        "id": "YlTl5XwZSAQ2"
      },
      "source": [
        "#Apply **SVD** and use **Frobinues norms** to get low rank data"
      ]
    },
    {
      "cell_type": "code",
      "execution_count": null,
      "metadata": {
        "colab": {
          "base_uri": "https://localhost:8080/"
        },
        "id": "CywovvKHNtkc",
        "outputId": "2d92fb97-ae7d-4712-958a-4d76c90553ab"
      },
      "outputs": [
        {
          "output_type": "execute_result",
          "data": {
            "text/plain": [
              "((518400, 379), (379,), (379, 379))"
            ]
          },
          "metadata": {},
          "execution_count": 5
        }
      ],
      "source": [
        "#calculating SVD of data matrix\n",
        "u, s, vh = np.linalg.svd(data, full_matrices=False)\n",
        "u.shape, s.shape, vh.shape"
      ]
    },
    {
      "cell_type": "code",
      "execution_count": null,
      "metadata": {
        "id": "L2vPIJwRRIQz"
      },
      "outputs": [],
      "source": [
        "np.save('u.npy', u)\n",
        "np.save('s.npy', s)\n",
        "np.save('vh.npy', vh)"
      ]
    },
    {
      "cell_type": "code",
      "execution_count": null,
      "metadata": {
        "id": "QoVO_UGoRhA3"
      },
      "outputs": [],
      "source": [
        "import numpy as np\n",
        "u = np.load(\"u.npy\")\n",
        "s = np.load(\"s.npy\")\n",
        "vh = np.load(\"vh.npy\")\n"
      ]
    },
    {
      "cell_type": "code",
      "source": [
        "print(np.shape(s))\n",
        "print(s[1])"
      ],
      "metadata": {
        "id": "szFBPd3J3GTm",
        "colab": {
          "base_uri": "https://localhost:8080/"
        },
        "outputId": "615c0b06-c1b1-416e-da14-11281185e0d0"
      },
      "execution_count": null,
      "outputs": [
        {
          "output_type": "stream",
          "name": "stdout",
          "text": [
            "(379,)\n",
            "210486.54302614197\n"
          ]
        }
      ]
    },
    {
      "cell_type": "code",
      "source": [
        "#finding the energy by taking the error of 2 frobinius norms to find our low rank\n",
        "#gives you optimal rank r\n",
        "r=0\n",
        "energy=0\n",
        "while energy<= 0.99999:\n",
        "  energy  = energy + (s[r]**2)/np.sum(np.square(s))\n",
        "  r+=1\n",
        "print(r)"
      ],
      "metadata": {
        "id": "aIACUkIP3uqs",
        "colab": {
          "base_uri": "https://localhost:8080/"
        },
        "outputId": "faf09470-0650-49e4-f832-e227b355a1be"
      },
      "execution_count": null,
      "outputs": [
        {
          "output_type": "stream",
          "name": "stdout",
          "text": [
            "156\n"
          ]
        }
      ]
    },
    {
      "cell_type": "code",
      "source": [
        "#to find low rank A, we take the original matrix and multiply it by the U* of r matrix(dot product)\n",
        "def lowRankSVD(R: int, U: np.ndarray, A):\n",
        "  return np.dot(np.transpose(U[:,:R]),A) \n",
        "\n",
        "A_low_rank = lowRankSVD(156, u, data)"
      ],
      "metadata": {
        "id": "sBpNWcEr1Voq"
      },
      "execution_count": null,
      "outputs": []
    },
    {
      "cell_type": "code",
      "source": [
        "print(A_low_rank)"
      ],
      "metadata": {
        "colab": {
          "base_uri": "https://localhost:8080/"
        },
        "id": "lzBssZQOJP2b",
        "outputId": "6a6f3ea7-8d39-4db2-c772-b9f75d243ba6"
      },
      "execution_count": null,
      "outputs": [
        {
          "output_type": "stream",
          "name": "stdout",
          "text": [
            "[[-9.63626770e+04 -9.63760039e+04 -9.63663412e+04 ... -9.59760283e+04\n",
            "  -9.59785950e+04 -9.59210063e+04]\n",
            " [-8.81453668e+03 -8.84194639e+03 -8.84233649e+03 ...  1.28169901e+04\n",
            "   1.28218511e+04  1.31265049e+04]\n",
            " [-7.39390238e+03 -6.76405526e+03 -6.76403681e+03 ...  5.50829816e+02\n",
            "   5.51123008e+02  2.54139050e+02]\n",
            " ...\n",
            " [ 1.89102493e+02 -7.54752765e+01 -7.62628747e+01 ...  8.75283152e+00\n",
            "   7.09446514e+00 -2.96551035e+00]\n",
            " [ 3.14798571e+00 -1.04572050e+01 -1.01682075e+01 ...  1.25093723e+01\n",
            "   1.36115119e+01 -8.15182798e+00]\n",
            " [-2.69512139e+00  5.83881036e+00  6.76416545e+00 ... -7.84955445e+00\n",
            "  -5.92513781e+00  2.87341541e+01]]\n"
          ]
        }
      ]
    },
    {
      "cell_type": "markdown",
      "source": [
        "# Find **X** and **Y** low rank Matrices and **DMD**"
      ],
      "metadata": {
        "id": "GsIz8ZJBxqKn"
      }
    },
    {
      "cell_type": "code",
      "source": [
        "#X is the new low rank matrix A minus its final collumn\n",
        "X = np.delete(A_low_rank,-1,1)\n",
        "print(X)"
      ],
      "metadata": {
        "id": "613OQ9iOaq3p",
        "colab": {
          "base_uri": "https://localhost:8080/"
        },
        "outputId": "1c9411c3-b4f9-4498-e8f9-93f41cf1ba77"
      },
      "execution_count": null,
      "outputs": [
        {
          "output_type": "stream",
          "name": "stdout",
          "text": [
            "[[-9.63626770e+04 -9.63760039e+04 -9.63663412e+04 ... -9.59763862e+04\n",
            "  -9.59760283e+04 -9.59785950e+04]\n",
            " [-8.81453668e+03 -8.84194639e+03 -8.84233649e+03 ...  1.28164806e+04\n",
            "   1.28169901e+04  1.28218511e+04]\n",
            " [-7.39390238e+03 -6.76405526e+03 -6.76403681e+03 ...  5.48105253e+02\n",
            "   5.50829816e+02  5.51123008e+02]\n",
            " ...\n",
            " [ 1.89102493e+02 -7.54752765e+01 -7.62628747e+01 ...  9.60002653e+00\n",
            "   8.75283152e+00  7.09446514e+00]\n",
            " [ 3.14798571e+00 -1.04572050e+01 -1.01682075e+01 ...  1.31598647e+01\n",
            "   1.25093723e+01  1.36115119e+01]\n",
            " [-2.69512139e+00  5.83881036e+00  6.76416545e+00 ... -7.96982446e+00\n",
            "  -7.84955445e+00 -5.92513781e+00]]\n"
          ]
        }
      ]
    },
    {
      "cell_type": "code",
      "source": [
        "#Y is the new low rank matrix A minus its first collumn\n",
        "Y = np.delete(A_low_rank,0,1)\n",
        "print(Y)"
      ],
      "metadata": {
        "id": "KIjP-ZsfbX-n",
        "colab": {
          "base_uri": "https://localhost:8080/"
        },
        "outputId": "ae04c7aa-051d-411c-99a3-4e88616d5522"
      },
      "execution_count": null,
      "outputs": [
        {
          "output_type": "stream",
          "name": "stdout",
          "text": [
            "[[-9.63760039e+04 -9.63663412e+04 -9.63661116e+04 ... -9.59760283e+04\n",
            "  -9.59785950e+04 -9.59210063e+04]\n",
            " [-8.84194639e+03 -8.84233649e+03 -8.84225114e+03 ...  1.28169901e+04\n",
            "   1.28218511e+04  1.31265049e+04]\n",
            " [-6.76405526e+03 -6.76403681e+03 -6.76488155e+03 ...  5.50829816e+02\n",
            "   5.51123008e+02  2.54139050e+02]\n",
            " ...\n",
            " [-7.54752765e+01 -7.62628747e+01 -7.62384908e+01 ...  8.75283152e+00\n",
            "   7.09446514e+00 -2.96551035e+00]\n",
            " [-1.04572050e+01 -1.01682075e+01 -1.01385210e+01 ...  1.25093723e+01\n",
            "   1.36115119e+01 -8.15182798e+00]\n",
            " [ 5.83881036e+00  6.76416545e+00  6.75927788e+00 ... -7.84955445e+00\n",
            "  -5.92513781e+00  2.87341541e+01]]\n"
          ]
        }
      ]
    },
    {
      "cell_type": "code",
      "source": [
        "#psuedo invers of X\n",
        "psuX = np.linalg.pinv(X)\n",
        "print(psuX)"
      ],
      "metadata": {
        "id": "Gh-mLzDadWsB",
        "colab": {
          "base_uri": "https://localhost:8080/"
        },
        "outputId": "d3c408d5-bea1-4297-82ef-7c0bb93f899a"
      },
      "execution_count": null,
      "outputs": [
        {
          "output_type": "stream",
          "name": "stdout",
          "text": [
            "[[-1.79521028e-08 -3.05769523e-07 -7.88171770e-07 ...  9.69425545e-06\n",
            "   3.53184639e-07 -9.52152861e-07]\n",
            " [ 5.89658601e-08 -1.12404887e-06 -7.95702085e-07 ... -3.37575608e-06\n",
            "   8.69126689e-07 -6.11355253e-06]\n",
            " [-7.99723125e-08  3.52851662e-07 -6.62310122e-07 ... -4.16947142e-06\n",
            "  -1.47192880e-06  4.40105960e-06]\n",
            " ...\n",
            " [ 3.60479218e-07 -3.83897636e-06 -3.15140313e-07 ...  2.59574350e-06\n",
            "   7.35417053e-06 -2.97830843e-05]\n",
            " [ 2.24890136e-07 -2.39768430e-06 -1.84681300e-07 ...  1.81716908e-06\n",
            "   5.01548251e-06 -1.95792173e-05]\n",
            " [-6.38375486e-07  6.77872426e-06  6.44125353e-07 ... -2.94940999e-06\n",
            "  -9.57014566e-06  4.54709465e-05]]\n"
          ]
        }
      ]
    },
    {
      "cell_type": "code",
      "execution_count": null,
      "metadata": {
        "id": "qwuRtw2SyCKE"
      },
      "outputs": [],
      "source": [
        "np.save('Y.npy', Y)\n",
        "np.save('psuX.npy', psuX)\n"
      ]
    },
    {
      "cell_type": "code",
      "source": [
        "#import numpy as np\n",
        "#Ys = np.load(\"Y.npy\")\n",
        "#psuX = np.load(\"psuX.npy\")\n"
      ],
      "metadata": {
        "id": "I5oI8YZFyPy0"
      },
      "execution_count": null,
      "outputs": []
    },
    {
      "cell_type": "code",
      "source": [
        "print(psuX.shape)\n",
        "print(Y.shape)"
      ],
      "metadata": {
        "id": "7oF_zOfLh173",
        "colab": {
          "base_uri": "https://localhost:8080/"
        },
        "outputId": "0b016913-1668-4af8-b468-00f57d0c1da5"
      },
      "execution_count": null,
      "outputs": [
        {
          "output_type": "stream",
          "name": "stdout",
          "text": [
            "(378, 156)\n",
            "(156, 378)\n"
          ]
        }
      ]
    },
    {
      "cell_type": "code",
      "source": [
        "#multiply the Y matrix by the psuedo inverse of X to get the DMD\n",
        "DMD = np.matmul(Y,psuX) \n",
        "print(DMD)\n",
        "\n"
      ],
      "metadata": {
        "id": "4Wt3xvN9ikOT",
        "colab": {
          "base_uri": "https://localhost:8080/"
        },
        "outputId": "eccd23b3-dd65-40cb-ce29-77cf3167364c"
      },
      "execution_count": null,
      "outputs": [
        {
          "output_type": "stream",
          "name": "stdout",
          "text": [
            "[[ 9.99136742e-01  7.82064786e-03  1.09083006e-03 ...  9.04110611e-04\n",
            "  -1.72240443e-02  5.69744836e-02]\n",
            " [-1.03118498e-03  1.00536287e+00  2.38654625e-02 ... -1.50573657e-03\n",
            "  -3.67057706e-03  2.99421891e-02]\n",
            " [-2.46001972e-04 -6.06538806e-03  9.93227275e-01 ... -2.18424986e-03\n",
            "   1.44522189e-02  7.28417718e-02]\n",
            " ...\n",
            " [ 6.29372370e-05 -5.76767019e-04  1.48157576e-04 ...  1.60016814e-01\n",
            "   1.17871441e-01 -1.34206423e-01]\n",
            " [-3.88736757e-04  4.13021758e-03  4.43081543e-04 ... -6.75153850e-02\n",
            "   1.29306494e-01 -7.94761350e-02]\n",
            " [ 5.74272864e-03 -6.10440451e-02 -5.55748196e-03 ...  4.81593774e-02\n",
            "   6.42086696e-02  6.00841488e-02]]\n"
          ]
        }
      ]
    },
    {
      "cell_type": "code",
      "source": [
        "np.save(\"A.npy\",DMD)"
      ],
      "metadata": {
        "id": "w-sWOTGyX7cZ"
      },
      "execution_count": null,
      "outputs": []
    },
    {
      "cell_type": "code",
      "source": [
        "DMD=np.load(\"A.npy\")"
      ],
      "metadata": {
        "id": "KGRJrp_zYFcN"
      },
      "execution_count": null,
      "outputs": []
    },
    {
      "cell_type": "markdown",
      "metadata": {
        "id": "0B_x9-zkRpM_"
      },
      "source": [
        "# Apply **DMD** to find eigenvalues and eigenvectors"
      ]
    },
    {
      "cell_type": "code",
      "execution_count": null,
      "metadata": {
        "id": "F8ZlbqrbRoxf"
      },
      "outputs": [],
      "source": [
        "#Compute eigenvalues and eigenvectors\n",
        "eigenvalues, eigenvectors = np.linalg.eig(DMD)\n",
        "\n",
        "print(eigenvalues)\n",
        "print(eigenvectors)"
      ]
    },
    {
      "cell_type": "code",
      "source": [
        "#**List**\n",
        "#matrix of eignevectors * matrix of bp = first frame of low rank A (which is first collume of it) **just inverse**\n",
        "#solving this to get matrix of bp\n",
        "#then use to get general decomposition formula pg 22\n",
        "##sort eigenvalues and eigenvectors to determine what eigenvectors and eigenvectors make up foreground and background (lamda>0.1) in logorithmic form its easier to seperate \n",
        "#produce foreground and background matrices"
      ],
      "metadata": {
        "id": "dJDh1ipqhPhg"
      },
      "execution_count": null,
      "outputs": []
    },
    {
      "cell_type": "code",
      "source": [
        "eigvecinverse = np.linalg.inv(eigenvectors) "
      ],
      "metadata": {
        "id": "F3nlSuFgneis"
      },
      "execution_count": null,
      "outputs": []
    },
    {
      "cell_type": "code",
      "source": [
        "frame1= A_low_rank[:, 0]\n",
        "print(frame1)"
      ],
      "metadata": {
        "id": "7NxLtRpLomf3"
      },
      "execution_count": null,
      "outputs": []
    },
    {
      "cell_type": "code",
      "source": [
        "matrix_C = np.matmul(eigvecinverse,frame1)\n",
        "print(matrix_C)\n",
        "#values on the diagonal!"
      ],
      "metadata": {
        "id": "8TDNZpD-rPfM"
      },
      "execution_count": null,
      "outputs": []
    },
    {
      "cell_type": "code",
      "source": [
        "#calculate fastdmd\n",
        "#subtract fastdmd from Xdmd to get slowdmd\n",
        "#done!"
      ],
      "metadata": {
        "id": "N2cPaGLYKebK"
      },
      "execution_count": null,
      "outputs": []
    },
    {
      "cell_type": "code",
      "source": [
        "#Compute eigen decomposition matrix:\n",
        "\n",
        "#Part 1 - The set up\n",
        "import math\n",
        "\n",
        "#R = 156 - optimal p-rank\n",
        "#N = 379 - total frames\n",
        "\n",
        "C = matrix_C.reshape(156,1)\n",
        "E = eigenvalues.reshape(156,1)\n",
        "Zn = np.empty([156,379], dtype = np.cdouble)\n",
        "#Zn.reshape(59124,1)\n",
        "decomp = np.empty([156,1], dtype = np.cdouble)\n",
        "#defining number of rows as p-rank and number of columns as frames\n",
        "\n",
        "decomp.reshape(156,1)\n",
        "\n",
        "print(decomp.shape)\n",
        "print(decomp.dtype)\n",
        "print(E.shape)\n",
        "print(C.shape)\n",
        "print(eigenvectors.shape)\n",
        "print(Zn.shape)\n",
        "print(Zn.dtype)\n",
        "\n",
        "\n"
      ],
      "metadata": {
        "colab": {
          "base_uri": "https://localhost:8080/"
        },
        "id": "jdlclr1RWqz0",
        "outputId": "3eeaaacb-ded5-48ba-fc8d-e2470442e3e5"
      },
      "execution_count": null,
      "outputs": [
        {
          "output_type": "stream",
          "name": "stdout",
          "text": [
            "(156, 1)\n",
            "complex128\n",
            "(156, 1)\n",
            "(156, 1)\n",
            "(156, 156)\n",
            "(156, 379)\n",
            "complex128\n"
          ]
        }
      ]
    },
    {
      "cell_type": "code",
      "source": [
        "# Part 2: \n",
        "#using the Zn formula on page 15 of textbook [2]\n",
        "#r = 0\n",
        "#n = 1\n",
        "\n",
        "for n in range(379):\n",
        "    for r in range(155): #as the first row is 0\n",
        "        #print(eigenvectors[:,r]) #to check whether the slicing is 'good'\n",
        "        #using [r+1] as it is the only way to get around ValueError: could not broadcast input array from shape (156,156) into shape (156,)\n",
        "        decomp = decomp + (((E[r+1])**(n+1))*(C[r+1])*eigenvectors[:,[r+1]]) \n",
        "    Zn[:,[n]] = decomp\n",
        "    #to initialize next column of Zn\n",
        "    decomp = np.empty([156,1]) \n",
        "\n",
        "np.save('Zn.npy', Zn)    \n",
        "\n",
        "print(Zn.shape)\n",
        "print(Zn)"
      ],
      "metadata": {
        "colab": {
          "base_uri": "https://localhost:8080/"
        },
        "id": "qK6J6uHszcCu",
        "outputId": "7d7dbf07-812b-4fe9-bec7-415abdf30921"
      },
      "execution_count": null,
      "outputs": [
        {
          "output_type": "stream",
          "name": "stdout",
          "text": [
            "(156, 379)\n",
            "[[-9.63765038e+04+3.03601588e-12j -9.63754129e+04+1.48803192e-12j\n",
            "  -9.63692626e+04-1.23263205e-12j ... -9.83522350e+04+2.21796405e-08j\n",
            "  -9.85900488e+04+1.92458267e-08j -9.88363013e+04+1.61333426e-08j]\n",
            " [-8.84149725e+03+1.23911992e-11j -8.93326918e+03+9.99336031e-12j\n",
            "  -9.04438651e+03+7.09289572e-12j ...  1.37181256e+04+5.33458293e-08j\n",
            "   1.35454488e+04+5.14054239e-08j  1.33622711e+04+4.92512537e-08j]\n",
            " [-6.76563321e+03-1.53499435e-12j -6.69106529e+03-5.29631894e-12j\n",
            "  -6.61188181e+03-7.78428710e-12j ...  1.42238437e+03-6.33581876e-08j\n",
            "   1.91506574e+03-5.71361967e-08j  2.42447010e+03-5.04940448e-08j]\n",
            " ...\n",
            " [-7.54952106e+01-9.96447369e-12j -3.54309206e+01+1.31850086e-12j\n",
            "  -1.58522378e+01+4.74464912e-12j ... -9.80732488e+02-7.80502215e-09j\n",
            "  -1.03945091e+03-8.86984404e-09j -1.09856168e+03-9.96032606e-09j]\n",
            " [-1.00409479e+01+8.91553498e-12j -6.92593829e+00+6.04138961e-12j\n",
            "  -3.30902533e+00+3.13948867e-12j ... -7.78249104e+02-6.56732849e-09j\n",
            "  -8.22956989e+02-7.38970641e-09j -8.67880414e+02-8.23091273e-09j]\n",
            " [ 2.02359732e+00-2.52651233e-11j  9.52305171e-01-8.51319015e-12j\n",
            "   2.24424113e+00+8.87734330e-13j ...  5.40941258e+03+4.77291404e-08j\n",
            "   5.71005806e+03+5.33214972e-08j  6.01165311e+03+5.90327557e-08j]]\n"
          ]
        }
      ]
    },
    {
      "cell_type": "code",
      "source": [
        "print(Zn)"
      ],
      "metadata": {
        "id": "9Zu65pFrdF0I"
      },
      "execution_count": null,
      "outputs": []
    },
    {
      "cell_type": "code",
      "source": [
        "np.save('Zn.npy',Zn)\n",
        "np.save('E.npy',E)\n",
        "np.save('c.npy',C)"
      ],
      "metadata": {
        "id": "Z7ioWr7ra_1M"
      },
      "execution_count": null,
      "outputs": []
    },
    {
      "cell_type": "code",
      "source": [
        "Zn=np.load('Zn.npy')\n",
        "E=np.load('E.npy')\n",
        "C=np.load('c.npy')"
      ],
      "metadata": {
        "id": "5UwYfiSebeSd"
      },
      "execution_count": null,
      "outputs": []
    },
    {
      "cell_type": "markdown",
      "source": [
        "#Construction of the foreground and background "
      ],
      "metadata": {
        "id": "8z7yhfoCmYQZ"
      }
    },
    {
      "cell_type": "code",
      "source": [
        "#My learning curve for plotting\n",
        "\n",
        "#np.absolute(eigenvalues.real)\n",
        "#import matplotlib.pyplot as plt\n",
        "#from matplotlib import pyplot as plt, patches\n",
        "\n",
        "#plt.rcParams[\"figure.figsize\"] = [7.00, 7.50]\n",
        "#plt.rcParams[\"figure.autolayout\"] = True\n",
        "\n",
        "#eig=np.log(np.absolute(eigenvalues.real))\n",
        "#plt.scatter(eig,eig)\n",
        "\n",
        "\n",
        "#fig = plt.figure()\n",
        "#ax = fig.add_subplot()\n",
        "#circle1 = patches.Circle((0, 0), radius=1, color='black',fill= False)\n",
        "#ax.add_patch(circle1)\n",
        "#ax.axis('equal')\n",
        "\n",
        "\n",
        "#plt.xlabel(\"Eigenvalues\")\n",
        "#plt.ylabel(\"Weight\")\n",
        "\n",
        "#plt.show()"
      ],
      "metadata": {
        "id": "Gz9WoYjHg-hR"
      },
      "execution_count": null,
      "outputs": []
    },
    {
      "cell_type": "code",
      "source": [
        "#importing necessary package for plotting:\n",
        "\n",
        "import matplotlib.pyplot as plt\n",
        "from matplotlib.pyplot import plot\n",
        "from matplotlib.pyplot import margins"
      ],
      "metadata": {
        "id": "-Mw6t2hd5UeF"
      },
      "execution_count": null,
      "outputs": []
    },
    {
      "cell_type": "code",
      "source": [
        "#Determining the cutoff of eigevalues \n",
        " \n",
        "#frames/second\n",
        "delta_t = 379/6\n",
        "\n",
        "omega = np.abs(np.log(E))/delta_t\n",
        "omega_prime = np.log(E)/delta_t\n",
        "\n",
        "print(omega.shape)\n",
        "print(omega)\n",
        "\n",
        "print(omega_prime.shape)\n",
        "print(omega_prime)"
      ],
      "metadata": {
        "id": "iRd-e-fF2cMm"
      },
      "execution_count": null,
      "outputs": []
    },
    {
      "cell_type": "code",
      "source": [
        "#Plotting the eigenvalues without the cutoff\n",
        "#This is to observe what we will be cutting off\n",
        "\n",
        "plt.scatter(omega.real, omega.imag, marker='o', c = 'red', s = 15, label = 'Logarithm of Absolute Eigenvalues')\n",
        "plt.scatter(omega_prime.real, omega_prime.imag, marker='o', c = 'blue', s = 5, label = 'Logarithm of Eigenvalues')\n",
        "\n",
        "#This line controls the zooming \n",
        "plt.margins(x=0,y=-0.25) \n",
        "\n",
        "plt.title(\"Figure 1: Eigenvalues (r = 156, zoomed in)\")\n",
        "plt.xlabel(\"Real\")\n",
        "plt.ylabel(\"Imaginary\")\n",
        "\n",
        "plt.legend(loc='lower left',prop={'size':7})\n",
        "\n",
        "plt.show()"
      ],
      "metadata": {
        "id": "SRlniDPv43a1",
        "colab": {
          "base_uri": "https://localhost:8080/",
          "height": 295
        },
        "outputId": "40f5265f-dfa2-479d-ffb6-f22bc2b3f936"
      },
      "execution_count": null,
      "outputs": [
        {
          "output_type": "display_data",
          "data": {
            "text/plain": [
              "<Figure size 432x288 with 1 Axes>"
            ],
            "image/png": "[encoded data removed]"
          },
          "metadata": {
            "needs_background": "light"
          }
        }
      ]
    },
    {
      "cell_type": "code",
      "source": [
        "#Cutting off the eigenvalue:\n",
        "#The cut off is at 0.0001, considering the clustering of the eigenvalues at 0\n",
        "#separating the eigendecompositional matrix into fast and slow modes\n",
        "\n",
        "fast = np.zeros([156,1])\n",
        "slow = np.zeros([156,1])\n",
        "#empty array designated towards including 'fast' modes\n",
        "\n",
        "fast_index = 0\n",
        "slow_index = 0\n",
        "i = 0\n",
        "\n",
        "slow_position = 0\n",
        "\n",
        "for element in omega:\n",
        "    if element > 0.0001:\n",
        "        fast[fast_index] = element\n",
        "        fast_index = fast_index + 1\n",
        "        i += 1\n",
        "    else:\n",
        "        slow[slow_index] = element\n",
        "        slow_index = slow_index + 1\n",
        "        slow_position = i\n",
        "        i += 1\n",
        "        \n",
        "print(fast_index, slow_index)\n",
        "print(fast)\n",
        "print(slow)\n",
        "print(i)\n",
        "print(\"The index of the slow mode is: \", slow_position)\n",
        "print(\"The slow mode is the 9th element in omega\")\n",
        "#this means that the element with index 8 in the coefficient matrix is the coefficient for the slow eigendecomposition"
      ],
      "metadata": {
        "id": "S9ChjoyNttwy"
      },
      "execution_count": null,
      "outputs": []
    },
    {
      "cell_type": "code",
      "source": [
        "#Reconstruction the foreground and background\n",
        "\n",
        "#Part 1:The Foreground = X_fast\n",
        "\n",
        "import copy\n",
        "fast_C = copy.deepcopy(C)\n",
        "fast_C[8] = 0\n",
        "\n",
        "print(fast_C)\n",
        "print(fast_C[8])\n",
        "print(C[8])\n",
        "\n",
        "Zn_fast = np.empty([156,379], dtype = np.cdouble)\n",
        "decomp_new = np.empty([156,1], dtype = np.cdouble)\n",
        "#defining number of rows as p-rank and number of columns as frames\n",
        "decomp_new.reshape(156,1)\n",
        "\n",
        "for n in range(379):\n",
        "    for r in range(155): \n",
        "        #using [r+1] as it is the only way to get around ValueError: could not broadcast input array from shape (156,156) into shape (156,)\n",
        "        decomp_new = decomp_new + (((E[r+1])**(n+1))*(fast_C[r+1])*eigenvectors[:,[r+1]]) \n",
        "    Zn_fast[:,[n]] = decomp_new\n",
        "    #to initialize next column of Zn_fast\n",
        "    decomp_new = np.empty([156,1]) \n",
        "\n",
        "print(Zn.shape)\n",
        "print(Zn_fast.shape)\n",
        "print(Zn_fast)"
      ],
      "metadata": {
        "id": "cMfrF6DCxPSc"
      },
      "execution_count": null,
      "outputs": []
    },
    {
      "cell_type": "code",
      "source": [
        " #Part 2: The Background = X_slow\n",
        "\n",
        "Zn_slow = np.subtract(Zn, Zn_fast)\n",
        "\n",
        "print(Zn_slow.shape)\n",
        "print(Zn_slow)"
      ],
      "metadata": {
        "colab": {
          "base_uri": "https://localhost:8080/"
        },
        "id": "SJvw8od5ys46",
        "outputId": "2afa9a10-8f70-49e8-df81-55ca1d3d21ee"
      },
      "execution_count": null,
      "outputs": [
        {
          "output_type": "stream",
          "name": "stdout",
          "text": [
            "(156, 379)\n",
            "[[  8.17992934+3.74794967e+001j -10.66914408+2.47565611e+001j\n",
            "  -16.22783222+9.77372141e+000j ...   0.        +0.00000000e+000j\n",
            "    0.        +0.00000000e+000j   0.        +0.00000000e+000j]\n",
            " [ 70.84987595+4.18237873e+001j  23.34963562+5.28907596e+001j\n",
            "   -8.31252327+3.97688930e+001j ...   0.        +0.00000000e+000j\n",
            "    0.        +0.00000000e+000j   0.        +0.00000000e+000j]\n",
            " [ 48.91925043+5.28528553e+001j   6.30833912+5.02136742e+001j\n",
            "  -16.9506869 +3.12642152e+001j ...   0.        +0.00000000e+000j\n",
            "    0.        +0.00000000e+000j   0.        +0.00000000e+000j]\n",
            " ...\n",
            " [-37.4910431 +1.61052099e+001j -28.00721821-6.14695536e+000j\n",
            "  -13.48156597-1.49753553e+001j ...   0.        +0.00000000e+000j\n",
            "    0.        +0.00000000e+000j   0.        +0.00000000e+000j]\n",
            " [ -7.18126758-2.28145423e+001j   5.23676075-1.59711658e+001j\n",
            "    9.52872515-6.97915155e+000j ...   0.        +0.00000000e+000j\n",
            "    0.        +0.00000000e+000j   0.        +0.00000000e+000j]\n",
            " [ 61.18656515-3.95597803e+203j  41.11610671+1.64406931e+001j\n",
            "   16.75580996+2.62210039e+001j ...   0.        +0.00000000e+000j\n",
            "    0.        +0.00000000e+000j   0.        +0.00000000e+000j]]\n"
          ]
        }
      ]
    },
    {
      "cell_type": "code",
      "source": [
        "##CONSTRUCTING THE R MATRIX \n",
        "\n",
        "#Part 1:\n",
        "\n",
        "absZn_slow = np.abs(Zn_slow)\n",
        "LabsZn_slow = np.zeros([518400, 379])\n",
        "\n",
        "for i in range(379):\n",
        "    for j in range(156):\n",
        "        LabsZn_slow[j][i] = absZn_slow[j][i]\n",
        "\n",
        "print(LabsZn_slow.shape)\n",
        "print(LabsZn_slow)"
      ],
      "metadata": {
        "colab": {
          "base_uri": "https://localhost:8080/"
        },
        "id": "jP7UmHUtyuUm",
        "outputId": "e990f1f4-13ec-4d32-a492-0a0af88c1a62"
      },
      "execution_count": null,
      "outputs": [
        {
          "output_type": "stream",
          "name": "stdout",
          "text": [
            "(518400, 379)\n",
            "[[38.3617507  26.9577067  18.94381611 ...  0.          0.\n",
            "   0.        ]\n",
            " [82.27353224 57.81555094 40.62835081 ...  0.          0.\n",
            "   0.        ]\n",
            " [72.01747962 50.60838095 35.56370253 ...  0.          0.\n",
            "   0.        ]\n",
            " ...\n",
            " [ 0.          0.          0.         ...  0.          0.\n",
            "   0.        ]\n",
            " [ 0.          0.          0.         ...  0.          0.\n",
            "   0.        ]\n",
            " [ 0.          0.          0.         ...  0.          0.\n",
            "   0.        ]]\n"
          ]
        }
      ]
    },
    {
      "cell_type": "code",
      "source": [
        "#Part 2:\n",
        "\n",
        "#print(data)\n",
        "sparse = np.subtract(data,LabsZn_slow)\n",
        "#must subtract the slow from the transposed video data\n",
        "\n",
        "print(sparse.shape)\n",
        "print(sparse)\n",
        "\n",
        "R = np.zeros([518400,379], dtype = 'float')\n",
        "\n",
        "for j in range(379):\n",
        "    for l in range(156):\n",
        "        if sparse[l][j] < 0.00:\n",
        "            R[l][j] = sparse[l][j] #double indices due to 2-D array\n",
        "    \n",
        "print(R.shape)\n",
        "print(R)"
      ],
      "metadata": {
        "colab": {
          "base_uri": "https://localhost:8080/"
        },
        "id": "xVrmkDDX2TTD",
        "outputId": "834fd2d6-34e8-4d3b-8992-b7db37c58dce"
      },
      "execution_count": null,
      "outputs": [
        {
          "output_type": "stream",
          "name": "stdout",
          "text": [
            "(518400, 379)\n",
            "[[-21.7224507   -9.3185067   -1.30461611 ...  24.7094      24.7094\n",
            "   24.7094    ]\n",
            " [-65.63423224 -40.17635094 -22.98915081 ...  24.7094      24.7094\n",
            "   24.7094    ]\n",
            " [-55.37817962 -32.96918095 -17.92450253 ...  25.7093      25.7093\n",
            "   25.7093    ]\n",
            " ...\n",
            " [164.4056     164.4056     164.4056     ... 160.406      160.406\n",
            "  160.406     ]\n",
            " [161.4059     161.4059     161.4059     ... 160.406      160.406\n",
            "  160.406     ]\n",
            " [160.406      159.4061     159.4061     ... 160.406      160.406\n",
            "  160.406     ]]\n",
            "(518400, 379)\n",
            "[[-21.7224507   -9.3185067   -1.30461611 ...   0.           0.\n",
            "    0.        ]\n",
            " [-65.63423224 -40.17635094 -22.98915081 ...   0.           0.\n",
            "    0.        ]\n",
            " [-55.37817962 -32.96918095 -17.92450253 ...   0.           0.\n",
            "    0.        ]\n",
            " ...\n",
            " [  0.           0.           0.         ...   0.           0.\n",
            "    0.        ]\n",
            " [  0.           0.           0.         ...   0.           0.\n",
            "    0.        ]\n",
            " [  0.           0.           0.         ...   0.           0.\n",
            "    0.        ]]\n"
          ]
        }
      ]
    },
    {
      "cell_type": "code",
      "source": [
        "##FINALIZING SLOW AND FAST MODES:\n",
        "\n",
        "lowrank = np.add(R, LabsZn_slow)\n",
        "\n",
        "#as described in the methodology\n",
        "final_sparse = np.subtract(sparse, R) \n",
        "\n",
        "print(lowrank.shape)\n",
        "print(lowrank)\n",
        "print(final_sparse.shape)\n",
        "print(final_sparse)"
      ],
      "metadata": {
        "colab": {
          "base_uri": "https://localhost:8080/"
        },
        "id": "eeq9xXFn3cX2",
        "outputId": "95a46a54-d3f6-46c8-ebd1-8c1373a1c4f8"
      },
      "execution_count": null,
      "outputs": [
        {
          "output_type": "stream",
          "name": "stdout",
          "text": [
            "(518400, 379)\n",
            "[[16.6393 17.6392 17.6392 ...  0.      0.      0.    ]\n",
            " [16.6393 17.6392 17.6392 ...  0.      0.      0.    ]\n",
            " [16.6393 17.6392 17.6392 ...  0.      0.      0.    ]\n",
            " ...\n",
            " [ 0.      0.      0.     ...  0.      0.      0.    ]\n",
            " [ 0.      0.      0.     ...  0.      0.      0.    ]\n",
            " [ 0.      0.      0.     ...  0.      0.      0.    ]]\n",
            "(518400, 379)\n",
            "[[  0.       0.       0.     ...  24.7094  24.7094  24.7094]\n",
            " [  0.       0.       0.     ...  24.7094  24.7094  24.7094]\n",
            " [  0.       0.       0.     ...  25.7093  25.7093  25.7093]\n",
            " ...\n",
            " [164.4056 164.4056 164.4056 ... 160.406  160.406  160.406 ]\n",
            " [161.4059 161.4059 161.4059 ... 160.406  160.406  160.406 ]\n",
            " [160.406  159.4061 159.4061 ... 160.406  160.406  160.406 ]]\n"
          ]
        }
      ]
    },
    {
      "cell_type": "markdown",
      "source": [
        "#Reconstruction of video and print"
      ],
      "metadata": {
        "id": "tVORRaAym2wc"
      }
    },
    {
      "cell_type": "code",
      "source": [
        "np.save('lowrank.npy',lowrank)\n",
        "np.save('final_sparse.npy',final_sparse)"
      ],
      "metadata": {
        "id": "nBz-q49XZZYQ"
      },
      "execution_count": null,
      "outputs": []
    },
    {
      "cell_type": "code",
      "source": [
        "lowrank=np.load('lowrank.npy')\n",
        "final_sparse=np.load('final_sparse.npy')"
      ],
      "metadata": {
        "id": "Puy4vGiNb0x0"
      },
      "execution_count": null,
      "outputs": []
    },
    {
      "cell_type": "code",
      "source": [
        "##RECONSTRUCTING VIDEO:\n",
        "\n",
        "#now, lowrank and final_sparse should no longer contain negative values\n",
        "\n",
        "print(data.shape)\n",
        "print(data)\n",
        "\n",
        "RECON_VIDEO = np.add(lowrank, final_sparse)\n",
        "\n",
        "print(RECON_VIDEO.shape)\n",
        "print(RECON_VIDEO)"
      ],
      "metadata": {
        "id": "iOxrM22eBA1Y"
      },
      "execution_count": null,
      "outputs": []
    },
    {
      "cell_type": "code",
      "source": [
        "from PIL import Image as im"
      ],
      "metadata": {
        "id": "gD8svuFa7MfP"
      },
      "execution_count": null,
      "outputs": []
    },
    {
      "cell_type": "code",
      "source": [
        "#Frame Images of reconstructed video\n",
        "\n",
        "RECON_IM1 = RECON_VIDEO[:,[370]]\n",
        "RECON_IM1.shape\n",
        "RECON_IM1 = RECON_IM1.reshape(540,960)\n",
        "#RECON_IM1 = RECON_IM1.astype('uint8')\n",
        "\n",
        "IM1 = im.fromarray(RECON_IM1)\n",
        "IM1 = IM1.convert(\"L\") #solves OSError: cannot write mode F as PNG\n",
        "\n",
        "IM1.save(\"IM1.png\") "
      ],
      "metadata": {
        "id": "987pLGC761n2"
      },
      "execution_count": null,
      "outputs": []
    },
    {
      "cell_type": "code",
      "execution_count": null,
      "metadata": {
        "id": "21728d40"
      },
      "outputs": [],
      "source": [
        "##RECONSTRUCTING THE FRAMES:\n",
        "\n",
        "VIDEO = np.transpose(RECON_VIDEO)\n",
        "\n",
        "print(VIDEO.shape)\n"
      ]
    },
    {
      "cell_type": "code",
      "source": [
        "np.save('video.npy',VIDEO)"
      ],
      "metadata": {
        "id": "PnwaCO3tVSBf"
      },
      "execution_count": null,
      "outputs": []
    },
    {
      "cell_type": "code",
      "source": [
        "import numpy as np\n",
        "import skvideo.io\n",
        "\n",
        "lowrank=np.load('lowrank.npy')\n",
        "final_sparse=np.load('final_sparse.npy')"
      ],
      "metadata": {
        "id": "ncm-aFddVgMH"
      },
      "execution_count": null,
      "outputs": []
    },
    {
      "cell_type": "code",
      "source": [
        "VIDEO = np.load('video.npy')"
      ],
      "metadata": {
        "id": "-pFO_EW-hgq0"
      },
      "execution_count": null,
      "outputs": []
    },
    {
      "cell_type": "code",
      "source": [
        "Lowrank = np.transpose(lowrank)\n",
        "Lowrank.shape\n",
        "Final_sparse = np.transpose(final_sparse)"
      ],
      "metadata": {
        "id": "-CMtSTQAWe-p"
      },
      "execution_count": null,
      "outputs": []
    },
    {
      "cell_type": "code",
      "source": [
        "##PRINTING THE FRAMES FROM THE MATRICES:\n",
        "print(lowrank)\n",
        "print(final_sparse)\n",
        "\n"
      ],
      "metadata": {
        "id": "KrThcVFBBbPT"
      },
      "execution_count": null,
      "outputs": []
    },
    {
      "cell_type": "code",
      "source": [
        "#(379, 540, 960, 3)\n",
        "Reconstruction =np.reshape(VIDEO,(379, 540, 960, 1))"
      ],
      "metadata": {
        "id": "dcxxVZMEImG7"
      },
      "execution_count": null,
      "outputs": []
    },
    {
      "cell_type": "code",
      "source": [
        "#Video save and download method\n",
        "foreground = np.reshape(Final_sparse,(379, 540, 960, 1))\n",
        "foreground = foreground.astype(np.uint8)\n",
        "\n",
        "skvideo.io.vwrite(\"foreground.mp4\", foreground)"
      ],
      "metadata": {
        "id": "hXJ29IDkEiNA"
      },
      "execution_count": null,
      "outputs": []
    },
    {
      "cell_type": "code",
      "source": [
        "background = np.reshape(Lowrank,(379, 540, 960, 1))\n",
        "background = background.astype(np.uint8)\n",
        "\n",
        "skvideo.io.vwrite(\"background.mp4\", background)"
      ],
      "metadata": {
        "id": "Ge-WFyFUVS_r"
      },
      "execution_count": null,
      "outputs": []
    },
    {
      "cell_type": "code",
      "source": [
        "print(Reconstruction.shape)"
      ],
      "metadata": {
        "id": "5Bu1pFfZIpvn"
      },
      "execution_count": null,
      "outputs": []
    },
    {
      "cell_type": "code",
      "source": [],
      "metadata": {
        "id": "Ig76eo8EvSad"
      },
      "execution_count": null,
      "outputs": []
    }
  ],
  "metadata": {
    "colab": {
      "provenance": [],
      "collapsed_sections": [
        "YlTl5XwZSAQ2"
      ]
    },
    "kernelspec": {
      "display_name": "Python 3",
      "name": "python3"
    },
    "language_info": {
      "name": "python"
    }
  },
  "nbformat": 4,
  "nbformat_minor": 0
}